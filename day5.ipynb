{
  "nbformat": 4,
  "nbformat_minor": 0,
  "metadata": {
    "colab": {
      "name": "day5.ipynb",
      "provenance": [],
      "collapsed_sections": [],
      "mount_file_id": "1NaAXEpz0zRtt5TJTEqqgYnu0BEaxRidS",
      "authorship_tag": "ABX9TyNFhsvxCnEl06WqW22F9wEc",
      "include_colab_link": true
    },
    "kernelspec": {
      "name": "python3",
      "display_name": "Python 3"
    },
    "widgets": {
      "application/vnd.jupyter.widget-state+json": {
        "da0e8335dafd4f32a8b0de9c645b1532": {
          "model_module": "@jupyter-widgets/controls",
          "model_name": "HBoxModel",
          "state": {
            "_view_name": "HBoxView",
            "_dom_classes": [],
            "_model_name": "HBoxModel",
            "_view_module": "@jupyter-widgets/controls",
            "_model_module_version": "1.5.0",
            "_view_count": null,
            "_view_module_version": "1.5.0",
            "box_style": "",
            "layout": "IPY_MODEL_7f65b8d7b74648d0b2cf43fc0a7dcd40",
            "_model_module": "@jupyter-widgets/controls",
            "children": [
              "IPY_MODEL_4c5d54be89444299847e2d4ea97d47e0",
              "IPY_MODEL_3799f0dbf8ba45578f42ef894ff482ce"
            ]
          }
        },
        "7f65b8d7b74648d0b2cf43fc0a7dcd40": {
          "model_module": "@jupyter-widgets/base",
          "model_name": "LayoutModel",
          "state": {
            "_view_name": "LayoutView",
            "grid_template_rows": null,
            "right": null,
            "justify_content": null,
            "_view_module": "@jupyter-widgets/base",
            "overflow": null,
            "_model_module_version": "1.2.0",
            "_view_count": null,
            "flex_flow": null,
            "width": null,
            "min_width": null,
            "border": null,
            "align_items": null,
            "bottom": null,
            "_model_module": "@jupyter-widgets/base",
            "top": null,
            "grid_column": null,
            "overflow_y": null,
            "overflow_x": null,
            "grid_auto_flow": null,
            "grid_area": null,
            "grid_template_columns": null,
            "flex": null,
            "_model_name": "LayoutModel",
            "justify_items": null,
            "grid_row": null,
            "max_height": null,
            "align_content": null,
            "visibility": null,
            "align_self": null,
            "height": null,
            "min_height": null,
            "padding": null,
            "grid_auto_rows": null,
            "grid_gap": null,
            "max_width": null,
            "order": null,
            "_view_module_version": "1.2.0",
            "grid_template_areas": null,
            "object_position": null,
            "object_fit": null,
            "grid_auto_columns": null,
            "margin": null,
            "display": null,
            "left": null
          }
        },
        "4c5d54be89444299847e2d4ea97d47e0": {
          "model_module": "@jupyter-widgets/controls",
          "model_name": "IntProgressModel",
          "state": {
            "_view_name": "ProgressView",
            "style": "IPY_MODEL_c9b8c2efbcc5448a9b2848f2a5e9e804",
            "_dom_classes": [],
            "description": "",
            "_model_name": "IntProgressModel",
            "bar_style": "success",
            "max": 476,
            "_view_module": "@jupyter-widgets/controls",
            "_model_module_version": "1.5.0",
            "value": 476,
            "_view_count": null,
            "_view_module_version": "1.5.0",
            "orientation": "horizontal",
            "min": 0,
            "description_tooltip": null,
            "_model_module": "@jupyter-widgets/controls",
            "layout": "IPY_MODEL_e33d69fb4d9f499789b887a323c0de80"
          }
        },
        "3799f0dbf8ba45578f42ef894ff482ce": {
          "model_module": "@jupyter-widgets/controls",
          "model_name": "HTMLModel",
          "state": {
            "_view_name": "HTMLView",
            "style": "IPY_MODEL_ae46d7c5e446498090e3cda941cfa380",
            "_dom_classes": [],
            "description": "",
            "_model_name": "HTMLModel",
            "placeholder": "​",
            "_view_module": "@jupyter-widgets/controls",
            "_model_module_version": "1.5.0",
            "value": "100% 476/476 [00:04&lt;00:00, 112.39it/s]",
            "_view_count": null,
            "_view_module_version": "1.5.0",
            "description_tooltip": null,
            "_model_module": "@jupyter-widgets/controls",
            "layout": "IPY_MODEL_cc84444a53524fe6a9dbc80403510914"
          }
        },
        "c9b8c2efbcc5448a9b2848f2a5e9e804": {
          "model_module": "@jupyter-widgets/controls",
          "model_name": "ProgressStyleModel",
          "state": {
            "_view_name": "StyleView",
            "_model_name": "ProgressStyleModel",
            "description_width": "",
            "_view_module": "@jupyter-widgets/base",
            "_model_module_version": "1.5.0",
            "_view_count": null,
            "_view_module_version": "1.2.0",
            "bar_color": null,
            "_model_module": "@jupyter-widgets/controls"
          }
        },
        "e33d69fb4d9f499789b887a323c0de80": {
          "model_module": "@jupyter-widgets/base",
          "model_name": "LayoutModel",
          "state": {
            "_view_name": "LayoutView",
            "grid_template_rows": null,
            "right": null,
            "justify_content": null,
            "_view_module": "@jupyter-widgets/base",
            "overflow": null,
            "_model_module_version": "1.2.0",
            "_view_count": null,
            "flex_flow": null,
            "width": null,
            "min_width": null,
            "border": null,
            "align_items": null,
            "bottom": null,
            "_model_module": "@jupyter-widgets/base",
            "top": null,
            "grid_column": null,
            "overflow_y": null,
            "overflow_x": null,
            "grid_auto_flow": null,
            "grid_area": null,
            "grid_template_columns": null,
            "flex": null,
            "_model_name": "LayoutModel",
            "justify_items": null,
            "grid_row": null,
            "max_height": null,
            "align_content": null,
            "visibility": null,
            "align_self": null,
            "height": null,
            "min_height": null,
            "padding": null,
            "grid_auto_rows": null,
            "grid_gap": null,
            "max_width": null,
            "order": null,
            "_view_module_version": "1.2.0",
            "grid_template_areas": null,
            "object_position": null,
            "object_fit": null,
            "grid_auto_columns": null,
            "margin": null,
            "display": null,
            "left": null
          }
        },
        "ae46d7c5e446498090e3cda941cfa380": {
          "model_module": "@jupyter-widgets/controls",
          "model_name": "DescriptionStyleModel",
          "state": {
            "_view_name": "StyleView",
            "_model_name": "DescriptionStyleModel",
            "description_width": "",
            "_view_module": "@jupyter-widgets/base",
            "_model_module_version": "1.5.0",
            "_view_count": null,
            "_view_module_version": "1.2.0",
            "_model_module": "@jupyter-widgets/controls"
          }
        },
        "cc84444a53524fe6a9dbc80403510914": {
          "model_module": "@jupyter-widgets/base",
          "model_name": "LayoutModel",
          "state": {
            "_view_name": "LayoutView",
            "grid_template_rows": null,
            "right": null,
            "justify_content": null,
            "_view_module": "@jupyter-widgets/base",
            "overflow": null,
            "_model_module_version": "1.2.0",
            "_view_count": null,
            "flex_flow": null,
            "width": null,
            "min_width": null,
            "border": null,
            "align_items": null,
            "bottom": null,
            "_model_module": "@jupyter-widgets/base",
            "top": null,
            "grid_column": null,
            "overflow_y": null,
            "overflow_x": null,
            "grid_auto_flow": null,
            "grid_area": null,
            "grid_template_columns": null,
            "flex": null,
            "_model_name": "LayoutModel",
            "justify_items": null,
            "grid_row": null,
            "max_height": null,
            "align_content": null,
            "visibility": null,
            "align_self": null,
            "height": null,
            "min_height": null,
            "padding": null,
            "grid_auto_rows": null,
            "grid_gap": null,
            "max_width": null,
            "order": null,
            "_view_module_version": "1.2.0",
            "grid_template_areas": null,
            "object_position": null,
            "object_fit": null,
            "grid_auto_columns": null,
            "margin": null,
            "display": null,
            "left": null
          }
        }
      }
    }
  },
  "cells": [
    {
      "cell_type": "markdown",
      "metadata": {
        "id": "view-in-github",
        "colab_type": "text"
      },
      "source": [
        "<a href=\"https://colab.research.google.com/github/miklaszewskigrzegorz/dw_matrix/blob/master/day5.ipynb\" target=\"_parent\"><img src=\"https://colab.research.google.com/assets/colab-badge.svg\" alt=\"Open In Colab\"/></a>"
      ]
    },
    {
      "cell_type": "code",
      "metadata": {
        "id": "D8ifRFLXvl45",
        "colab_type": "code",
        "colab": {
          "base_uri": "https://localhost:8080/",
          "height": 204
        },
        "outputId": "0d742334-c71c-4a91-b896-dbca51093999"
      },
      "source": [
        "!pip install  eli5\n"
      ],
      "execution_count": 15,
      "outputs": [
        {
          "output_type": "stream",
          "text": [
            "Requirement already satisfied: eli5 in /usr/local/lib/python3.6/dist-packages (0.10.1)\n",
            "Requirement already satisfied: jinja2 in /usr/local/lib/python3.6/dist-packages (from eli5) (2.11.1)\n",
            "Requirement already satisfied: scikit-learn>=0.18 in /usr/local/lib/python3.6/dist-packages (from eli5) (0.22.1)\n",
            "Requirement already satisfied: numpy>=1.9.0 in /usr/local/lib/python3.6/dist-packages (from eli5) (1.17.5)\n",
            "Requirement already satisfied: scipy in /usr/local/lib/python3.6/dist-packages (from eli5) (1.4.1)\n",
            "Requirement already satisfied: tabulate>=0.7.7 in /usr/local/lib/python3.6/dist-packages (from eli5) (0.8.6)\n",
            "Requirement already satisfied: attrs>16.0.0 in /usr/local/lib/python3.6/dist-packages (from eli5) (19.3.0)\n",
            "Requirement already satisfied: graphviz in /usr/local/lib/python3.6/dist-packages (from eli5) (0.10.1)\n",
            "Requirement already satisfied: six in /usr/local/lib/python3.6/dist-packages (from eli5) (1.12.0)\n",
            "Requirement already satisfied: MarkupSafe>=0.23 in /usr/local/lib/python3.6/dist-packages (from jinja2->eli5) (1.1.1)\n",
            "Requirement already satisfied: joblib>=0.11 in /usr/local/lib/python3.6/dist-packages (from scikit-learn>=0.18->eli5) (0.14.1)\n"
          ],
          "name": "stdout"
        }
      ]
    },
    {
      "cell_type": "code",
      "metadata": {
        "id": "5tLvlZcpv6FK",
        "colab_type": "code",
        "colab": {}
      },
      "source": [
        "import pandas as pd\n",
        "import numpy as np\n",
        "from sklearn.tree import DecisionTreeRegressor\n",
        "from sklearn.ensemble import RandomForestRegressor\n",
        "\n",
        "from sklearn.metrics import mean_absolute_error\n",
        "from sklearn.model_selection import cross_val_score\n",
        "\n",
        "import eli5\n",
        "from eli5.sklearn import PermutationImportance\n",
        "\n",
        "from ast import literal_eval\n",
        "from tqdm import tqdm_notebook\n"
      ],
      "execution_count": 0,
      "outputs": []
    },
    {
      "cell_type": "code",
      "metadata": {
        "id": "ItH6ncJWw_l_",
        "colab_type": "code",
        "colab": {
          "base_uri": "https://localhost:8080/",
          "height": 34
        },
        "outputId": "7132b324-4c2c-407b-fd92-7e3d04fabc3d"
      },
      "source": [
        "cd \"/content/drive/My Drive/Colab Notebooks\""
      ],
      "execution_count": 22,
      "outputs": [
        {
          "output_type": "stream",
          "text": [
            "/content/drive/My Drive/Colab Notebooks\n"
          ],
          "name": "stdout"
        }
      ]
    },
    {
      "cell_type": "code",
      "metadata": {
        "id": "c0L6MH7pQNWy",
        "colab_type": "code",
        "colab": {
          "base_uri": "https://localhost:8080/",
          "height": 34
        },
        "outputId": "7a86571f-dc79-4733-dc04-32f294c5fd80"
      },
      "source": [
        "cd dw_matrix/"
      ],
      "execution_count": 23,
      "outputs": [
        {
          "output_type": "stream",
          "text": [
            "/content/drive/My Drive/Colab Notebooks/dw_matrix\n"
          ],
          "name": "stdout"
        }
      ]
    },
    {
      "cell_type": "code",
      "metadata": {
        "id": "fERGyWU0xJ71",
        "colab_type": "code",
        "colab": {}
      },
      "source": [
        "df = pd.read_csv('data/men_shoes.csv', low_memory=False)"
      ],
      "execution_count": 0,
      "outputs": []
    },
    {
      "cell_type": "code",
      "metadata": {
        "id": "nqunr0vHymV1",
        "colab_type": "code",
        "colab": {
          "base_uri": "https://localhost:8080/",
          "height": 221
        },
        "outputId": "9d771395-4296-4f88-c51c-f1cfedfc50db"
      },
      "source": [
        "df.columns"
      ],
      "execution_count": 25,
      "outputs": [
        {
          "output_type": "execute_result",
          "data": {
            "text/plain": [
              "Index(['id', 'asins', 'brand', 'categories', 'colors', 'count', 'dateadded',\n",
              "       'dateupdated', 'descriptions', 'dimension', 'ean', 'features',\n",
              "       'flavors', 'imageurls', 'isbn', 'keys', 'manufacturer',\n",
              "       'manufacturernumber', 'merchants', 'name', 'prices_amountmin',\n",
              "       'prices_amountmax', 'prices_availability', 'prices_color',\n",
              "       'prices_condition', 'prices_count', 'prices_currency',\n",
              "       'prices_dateadded', 'prices_dateseen', 'prices_flavor', 'prices_issale',\n",
              "       'prices_merchant', 'prices_offer', 'prices_returnpolicy',\n",
              "       'prices_shipping', 'prices_size', 'prices_source', 'prices_sourceurls',\n",
              "       'prices_warranty', 'quantities', 'reviews', 'sizes', 'skus',\n",
              "       'sourceurls', 'upc', 'vin', 'websiteids', 'weight'],\n",
              "      dtype='object')"
            ]
          },
          "metadata": {
            "tags": []
          },
          "execution_count": 25
        }
      ]
    },
    {
      "cell_type": "code",
      "metadata": {
        "id": "A8v8zzqhyq0P",
        "colab_type": "code",
        "colab": {}
      },
      "source": [
        "def run_model(feats, model = DecisionTreeRegressor(max_depth=5)):\n",
        "  X = df[ feats ].values\n",
        "  y = df['prices_amountmin'].values\n",
        "\n",
        "  scores = cross_val_score(model,X, y, scoring='neg_mean_absolute_error')\n",
        "  return np.mean(scores), np.std(scores)"
      ],
      "execution_count": 0,
      "outputs": []
    },
    {
      "cell_type": "code",
      "metadata": {
        "id": "PJIXlVChze5l",
        "colab_type": "code",
        "colab": {}
      },
      "source": [
        "# df['brand_cat'] = df['brand'].factorize()[0]\n",
        "# future engineering\n",
        "df['brand_cat'] = df['brand'].map(lambda x: str(x).lower()).factorize()[0]"
      ],
      "execution_count": 0,
      "outputs": []
    },
    {
      "cell_type": "code",
      "metadata": {
        "id": "J6SHpiL65Gcq",
        "colab_type": "code",
        "colab": {
          "base_uri": "https://localhost:8080/",
          "height": 34
        },
        "outputId": "71d797ba-05f6-40cf-aa34-880801347ce0"
      },
      "source": [
        "run_model(['brand_cat'])"
      ],
      "execution_count": 28,
      "outputs": [
        {
          "output_type": "execute_result",
          "data": {
            "text/plain": [
              "(-58.133398968282776, 4.206122611474276)"
            ]
          },
          "metadata": {
            "tags": []
          },
          "execution_count": 28
        }
      ]
    },
    {
      "cell_type": "markdown",
      "metadata": {
        "id": "PKUWt1lp6iWf",
        "colab_type": "text"
      },
      "source": [
        "usprawniamy jakość modelu po zsatosowaniu - Random Forest"
      ]
    },
    {
      "cell_type": "code",
      "metadata": {
        "id": "OQUQrWVU6nzf",
        "colab_type": "code",
        "colab": {
          "base_uri": "https://localhost:8080/",
          "height": 34
        },
        "outputId": "3ed1237c-a68f-4309-a120-9438d0e66c28"
      },
      "source": [
        "model = RandomForestRegressor(max_depth=5, n_estimators=100, random_state=0)\n",
        "run_model(['brand_cat'], model)"
      ],
      "execution_count": 29,
      "outputs": [
        {
          "output_type": "execute_result",
          "data": {
            "text/plain": [
              "(-57.31783843165656, 4.181246596160967)"
            ]
          },
          "metadata": {
            "tags": []
          },
          "execution_count": 29
        }
      ]
    },
    {
      "cell_type": "markdown",
      "metadata": {
        "id": "OYkeePaX7Gu6",
        "colab_type": "text"
      },
      "source": [
        "Feature Engineering -  to lepszego poznania danych - operacje na danych\n",
        "- wyżej żeby brand było przrównanne wszytskie z małej litery"
      ]
    },
    {
      "cell_type": "code",
      "metadata": {
        "id": "K107iqquA13b",
        "colab_type": "code",
        "colab": {
          "base_uri": "https://localhost:8080/",
          "height": 513
        },
        "outputId": "d4681544-f6ef-4bc8-f822-aba840ef142e"
      },
      "source": [
        "df.head()"
      ],
      "execution_count": 30,
      "outputs": [
        {
          "output_type": "execute_result",
          "data": {
            "text/html": [
              "<div>\n",
              "<style scoped>\n",
              "    .dataframe tbody tr th:only-of-type {\n",
              "        vertical-align: middle;\n",
              "    }\n",
              "\n",
              "    .dataframe tbody tr th {\n",
              "        vertical-align: top;\n",
              "    }\n",
              "\n",
              "    .dataframe thead th {\n",
              "        text-align: right;\n",
              "    }\n",
              "</style>\n",
              "<table border=\"1\" class=\"dataframe\">\n",
              "  <thead>\n",
              "    <tr style=\"text-align: right;\">\n",
              "      <th></th>\n",
              "      <th>id</th>\n",
              "      <th>asins</th>\n",
              "      <th>brand</th>\n",
              "      <th>categories</th>\n",
              "      <th>colors</th>\n",
              "      <th>count</th>\n",
              "      <th>dateadded</th>\n",
              "      <th>dateupdated</th>\n",
              "      <th>descriptions</th>\n",
              "      <th>dimension</th>\n",
              "      <th>ean</th>\n",
              "      <th>features</th>\n",
              "      <th>flavors</th>\n",
              "      <th>imageurls</th>\n",
              "      <th>isbn</th>\n",
              "      <th>keys</th>\n",
              "      <th>manufacturer</th>\n",
              "      <th>manufacturernumber</th>\n",
              "      <th>merchants</th>\n",
              "      <th>name</th>\n",
              "      <th>prices_amountmin</th>\n",
              "      <th>prices_amountmax</th>\n",
              "      <th>prices_availability</th>\n",
              "      <th>prices_color</th>\n",
              "      <th>prices_condition</th>\n",
              "      <th>prices_count</th>\n",
              "      <th>prices_currency</th>\n",
              "      <th>prices_dateadded</th>\n",
              "      <th>prices_dateseen</th>\n",
              "      <th>prices_flavor</th>\n",
              "      <th>prices_issale</th>\n",
              "      <th>prices_merchant</th>\n",
              "      <th>prices_offer</th>\n",
              "      <th>prices_returnpolicy</th>\n",
              "      <th>prices_shipping</th>\n",
              "      <th>prices_size</th>\n",
              "      <th>prices_source</th>\n",
              "      <th>prices_sourceurls</th>\n",
              "      <th>prices_warranty</th>\n",
              "      <th>quantities</th>\n",
              "      <th>reviews</th>\n",
              "      <th>sizes</th>\n",
              "      <th>skus</th>\n",
              "      <th>sourceurls</th>\n",
              "      <th>upc</th>\n",
              "      <th>vin</th>\n",
              "      <th>websiteids</th>\n",
              "      <th>weight</th>\n",
              "      <th>brand_cat</th>\n",
              "    </tr>\n",
              "  </thead>\n",
              "  <tbody>\n",
              "    <tr>\n",
              "      <th>0</th>\n",
              "      <td>AVpfHrJ6ilAPnD_xVXOI</td>\n",
              "      <td>NaN</td>\n",
              "      <td>Josmo</td>\n",
              "      <td>Clothing,Shoes,Men's Shoes,All Men's Shoes</td>\n",
              "      <td>NaN</td>\n",
              "      <td>NaN</td>\n",
              "      <td>2016-11-07T00:45:12Z</td>\n",
              "      <td>2016-11-07T00:45:12Z</td>\n",
              "      <td>[{\"dateSeen\":[\"2016-11-07T00:45:12Z\"],\"sourceU...</td>\n",
              "      <td>NaN</td>\n",
              "      <td>6.993020e+11</td>\n",
              "      <td>[{\"key\":\"Gender\",\"value\":[\"Men\"]},{\"key\":\"Shoe...</td>\n",
              "      <td>NaN</td>\n",
              "      <td>https://i5.walmartimages.com/asr/13ac3d61-003c...</td>\n",
              "      <td>NaN</td>\n",
              "      <td>josmo/8190wnavy75,699302044036,0699302044036</td>\n",
              "      <td>NaN</td>\n",
              "      <td>8190-W-NAVY-7.5</td>\n",
              "      <td>[{\"dateSeen\":[\"2016-11-07T00:45:12Z\"],\"name\":\"...</td>\n",
              "      <td>Josmo 8190 Plain Infant Walking Shoes, Navy - ...</td>\n",
              "      <td>39.89</td>\n",
              "      <td>39.89</td>\n",
              "      <td>NaN</td>\n",
              "      <td>NaN</td>\n",
              "      <td>NaN</td>\n",
              "      <td>NaN</td>\n",
              "      <td>USD</td>\n",
              "      <td>2016-11-07T00:45:12Z</td>\n",
              "      <td>2016-11-05T00:00:00Z</td>\n",
              "      <td>NaN</td>\n",
              "      <td>True</td>\n",
              "      <td>NaN</td>\n",
              "      <td>REDUCED USD 12.10</td>\n",
              "      <td>NaN</td>\n",
              "      <td>NaN</td>\n",
              "      <td>NaN</td>\n",
              "      <td>NaN</td>\n",
              "      <td>https://www.walmart.com/ip/Josmo-8190-Plain-In...</td>\n",
              "      <td>NaN</td>\n",
              "      <td>NaN</td>\n",
              "      <td>NaN</td>\n",
              "      <td>NaN</td>\n",
              "      <td>NaN</td>\n",
              "      <td>https://www.walmart.com/ip/Josmo-8190-Plain-In...</td>\n",
              "      <td>6.993020e+11</td>\n",
              "      <td>NaN</td>\n",
              "      <td>NaN</td>\n",
              "      <td>NaN</td>\n",
              "      <td>0</td>\n",
              "    </tr>\n",
              "    <tr>\n",
              "      <th>1</th>\n",
              "      <td>AVpfHrJ6ilAPnD_xVXOI</td>\n",
              "      <td>NaN</td>\n",
              "      <td>Josmo</td>\n",
              "      <td>Clothing,Shoes,Men's Shoes,All Men's Shoes</td>\n",
              "      <td>NaN</td>\n",
              "      <td>NaN</td>\n",
              "      <td>2016-11-07T00:45:12Z</td>\n",
              "      <td>2016-11-07T00:45:12Z</td>\n",
              "      <td>[{\"dateSeen\":[\"2016-11-07T00:45:12Z\"],\"sourceU...</td>\n",
              "      <td>NaN</td>\n",
              "      <td>6.993020e+11</td>\n",
              "      <td>[{\"key\":\"Gender\",\"value\":[\"Men\"]},{\"key\":\"Shoe...</td>\n",
              "      <td>NaN</td>\n",
              "      <td>https://i5.walmartimages.com/asr/13ac3d61-003c...</td>\n",
              "      <td>NaN</td>\n",
              "      <td>josmo/8190wnavy75,699302044036,0699302044036</td>\n",
              "      <td>NaN</td>\n",
              "      <td>8190-W-NAVY-7.5</td>\n",
              "      <td>[{\"dateSeen\":[\"2016-11-07T00:45:12Z\"],\"name\":\"...</td>\n",
              "      <td>Josmo 8190 Plain Infant Walking Shoes, Navy - ...</td>\n",
              "      <td>51.99</td>\n",
              "      <td>51.99</td>\n",
              "      <td>NaN</td>\n",
              "      <td>NaN</td>\n",
              "      <td>new</td>\n",
              "      <td>NaN</td>\n",
              "      <td>USD</td>\n",
              "      <td>2016-11-07T00:45:12Z</td>\n",
              "      <td>2016-11-05T00:00:00Z</td>\n",
              "      <td>NaN</td>\n",
              "      <td>False</td>\n",
              "      <td>UnbeatableSale - Walmart.com</td>\n",
              "      <td>REDUCED USD 12.10</td>\n",
              "      <td>NaN</td>\n",
              "      <td>NaN</td>\n",
              "      <td>NaN</td>\n",
              "      <td>NaN</td>\n",
              "      <td>https://www.walmart.com/ip/Josmo-8190-Plain-In...</td>\n",
              "      <td>NaN</td>\n",
              "      <td>NaN</td>\n",
              "      <td>NaN</td>\n",
              "      <td>NaN</td>\n",
              "      <td>NaN</td>\n",
              "      <td>https://www.walmart.com/ip/Josmo-8190-Plain-In...</td>\n",
              "      <td>6.993020e+11</td>\n",
              "      <td>NaN</td>\n",
              "      <td>NaN</td>\n",
              "      <td>NaN</td>\n",
              "      <td>0</td>\n",
              "    </tr>\n",
              "    <tr>\n",
              "      <th>2</th>\n",
              "      <td>AVpfHsWP1cnluZ0-eVZ7</td>\n",
              "      <td>NaN</td>\n",
              "      <td>SERVUS BY HONEYWELL</td>\n",
              "      <td>All Men's Shoes,Shoes,Men's Shoes,Clothing</td>\n",
              "      <td>NaN</td>\n",
              "      <td>NaN</td>\n",
              "      <td>2016-06-14T04:29:57Z</td>\n",
              "      <td>2016-07-09T20:26:48Z</td>\n",
              "      <td>[{\"dateSeen\":[\"2016-07-09T20:26:48Z\"],\"sourceU...</td>\n",
              "      <td>NaN</td>\n",
              "      <td>NaN</td>\n",
              "      <td>[{\"key\":\"Gender\",\"value\":[\"Men\"]},{\"key\":\"Colo...</td>\n",
              "      <td>NaN</td>\n",
              "      <td>http://i5.walmartimages.com/dfw/dce07b8c-5844/...</td>\n",
              "      <td>NaN</td>\n",
              "      <td>servusbyhoneywell/zsr101blmlg</td>\n",
              "      <td>NaN</td>\n",
              "      <td>ZSR101BLMLG</td>\n",
              "      <td>[{\"dateSeen\":[\"2016-06-14T04:29:57Z\"],\"name\":\"...</td>\n",
              "      <td>Servus By Honeywell Shoe Studs Zsr101blmlg</td>\n",
              "      <td>40.02</td>\n",
              "      <td>40.02</td>\n",
              "      <td>NaN</td>\n",
              "      <td>NaN</td>\n",
              "      <td>new</td>\n",
              "      <td>NaN</td>\n",
              "      <td>USD</td>\n",
              "      <td>2016-06-14T04:29:57Z</td>\n",
              "      <td>2016-03-08T00:00:00Z</td>\n",
              "      <td>NaN</td>\n",
              "      <td>False</td>\n",
              "      <td>SIM Supply Inc - Walmart.com</td>\n",
              "      <td>NaN</td>\n",
              "      <td>NaN</td>\n",
              "      <td>NaN</td>\n",
              "      <td>NaN</td>\n",
              "      <td>NaN</td>\n",
              "      <td>http://www.walmart.com/ip/Studs-Shoe-Large-Pr-...</td>\n",
              "      <td>NaN</td>\n",
              "      <td>NaN</td>\n",
              "      <td>NaN</td>\n",
              "      <td>NaN</td>\n",
              "      <td>NaN</td>\n",
              "      <td>http://www.walmart.com/ip/Studs-Shoe-Large-Pr-...</td>\n",
              "      <td>NaN</td>\n",
              "      <td>NaN</td>\n",
              "      <td>NaN</td>\n",
              "      <td>NaN</td>\n",
              "      <td>1</td>\n",
              "    </tr>\n",
              "    <tr>\n",
              "      <th>3</th>\n",
              "      <td>AVpfHsWP1cnluZ0-eVZ7</td>\n",
              "      <td>NaN</td>\n",
              "      <td>SERVUS BY HONEYWELL</td>\n",
              "      <td>All Men's Shoes,Shoes,Men's Shoes,Clothing</td>\n",
              "      <td>NaN</td>\n",
              "      <td>NaN</td>\n",
              "      <td>2016-06-14T04:29:57Z</td>\n",
              "      <td>2016-07-09T20:26:48Z</td>\n",
              "      <td>[{\"dateSeen\":[\"2016-07-09T20:26:48Z\"],\"sourceU...</td>\n",
              "      <td>NaN</td>\n",
              "      <td>NaN</td>\n",
              "      <td>[{\"key\":\"Gender\",\"value\":[\"Men\"]},{\"key\":\"Colo...</td>\n",
              "      <td>NaN</td>\n",
              "      <td>http://i5.walmartimages.com/dfw/dce07b8c-5844/...</td>\n",
              "      <td>NaN</td>\n",
              "      <td>servusbyhoneywell/zsr101blmlg</td>\n",
              "      <td>NaN</td>\n",
              "      <td>ZSR101BLMLG</td>\n",
              "      <td>[{\"dateSeen\":[\"2016-06-14T04:29:57Z\"],\"name\":\"...</td>\n",
              "      <td>Servus By Honeywell Shoe Studs Zsr101blmlg</td>\n",
              "      <td>50.31</td>\n",
              "      <td>50.31</td>\n",
              "      <td>NaN</td>\n",
              "      <td>NaN</td>\n",
              "      <td>new</td>\n",
              "      <td>NaN</td>\n",
              "      <td>USD</td>\n",
              "      <td>2016-06-14T04:29:57Z</td>\n",
              "      <td>2015-11-30T00:00:00Z</td>\n",
              "      <td>NaN</td>\n",
              "      <td>False</td>\n",
              "      <td>SIM Supply Inc - Walmart.com</td>\n",
              "      <td>NaN</td>\n",
              "      <td>NaN</td>\n",
              "      <td>NaN</td>\n",
              "      <td>NaN</td>\n",
              "      <td>NaN</td>\n",
              "      <td>http://www.walmart.com/ip/Studs-Shoe-Large-Pr-...</td>\n",
              "      <td>NaN</td>\n",
              "      <td>NaN</td>\n",
              "      <td>NaN</td>\n",
              "      <td>NaN</td>\n",
              "      <td>NaN</td>\n",
              "      <td>http://www.walmart.com/ip/Studs-Shoe-Large-Pr-...</td>\n",
              "      <td>NaN</td>\n",
              "      <td>NaN</td>\n",
              "      <td>NaN</td>\n",
              "      <td>NaN</td>\n",
              "      <td>1</td>\n",
              "    </tr>\n",
              "    <tr>\n",
              "      <th>4</th>\n",
              "      <td>AVpfHsWP1cnluZ0-eVZ7</td>\n",
              "      <td>NaN</td>\n",
              "      <td>SERVUS BY HONEYWELL</td>\n",
              "      <td>All Men's Shoes,Shoes,Men's Shoes,Clothing</td>\n",
              "      <td>NaN</td>\n",
              "      <td>NaN</td>\n",
              "      <td>2016-06-14T04:29:57Z</td>\n",
              "      <td>2016-07-09T20:26:48Z</td>\n",
              "      <td>[{\"dateSeen\":[\"2016-07-09T20:26:48Z\"],\"sourceU...</td>\n",
              "      <td>NaN</td>\n",
              "      <td>NaN</td>\n",
              "      <td>[{\"key\":\"Gender\",\"value\":[\"Men\"]},{\"key\":\"Colo...</td>\n",
              "      <td>NaN</td>\n",
              "      <td>http://i5.walmartimages.com/dfw/dce07b8c-5844/...</td>\n",
              "      <td>NaN</td>\n",
              "      <td>servusbyhoneywell/zsr101blmlg</td>\n",
              "      <td>NaN</td>\n",
              "      <td>ZSR101BLMLG</td>\n",
              "      <td>[{\"dateSeen\":[\"2016-06-14T04:29:57Z\"],\"name\":\"...</td>\n",
              "      <td>Servus By Honeywell Shoe Studs Zsr101blmlg</td>\n",
              "      <td>46.26</td>\n",
              "      <td>46.26</td>\n",
              "      <td>NaN</td>\n",
              "      <td>NaN</td>\n",
              "      <td>new</td>\n",
              "      <td>NaN</td>\n",
              "      <td>USD</td>\n",
              "      <td>2016-06-14T04:29:57Z</td>\n",
              "      <td>2016-04-29T00:00:00Z</td>\n",
              "      <td>NaN</td>\n",
              "      <td>False</td>\n",
              "      <td>SIM Supply Inc - Walmart.com</td>\n",
              "      <td>NaN</td>\n",
              "      <td>NaN</td>\n",
              "      <td>NaN</td>\n",
              "      <td>NaN</td>\n",
              "      <td>NaN</td>\n",
              "      <td>http://www.walmart.com/ip/Studs-Shoe-Large-Pr-...</td>\n",
              "      <td>NaN</td>\n",
              "      <td>NaN</td>\n",
              "      <td>NaN</td>\n",
              "      <td>NaN</td>\n",
              "      <td>NaN</td>\n",
              "      <td>http://www.walmart.com/ip/Studs-Shoe-Large-Pr-...</td>\n",
              "      <td>NaN</td>\n",
              "      <td>NaN</td>\n",
              "      <td>NaN</td>\n",
              "      <td>NaN</td>\n",
              "      <td>1</td>\n",
              "    </tr>\n",
              "  </tbody>\n",
              "</table>\n",
              "</div>"
            ],
            "text/plain": [
              "                     id asins  ... weight brand_cat\n",
              "0  AVpfHrJ6ilAPnD_xVXOI   NaN  ...    NaN         0\n",
              "1  AVpfHrJ6ilAPnD_xVXOI   NaN  ...    NaN         0\n",
              "2  AVpfHsWP1cnluZ0-eVZ7   NaN  ...    NaN         1\n",
              "3  AVpfHsWP1cnluZ0-eVZ7   NaN  ...    NaN         1\n",
              "4  AVpfHsWP1cnluZ0-eVZ7   NaN  ...    NaN         1\n",
              "\n",
              "[5 rows x 49 columns]"
            ]
          },
          "metadata": {
            "tags": []
          },
          "execution_count": 30
        }
      ]
    },
    {
      "cell_type": "code",
      "metadata": {
        "id": "HIaEDzu3C7aN",
        "colab_type": "code",
        "colab": {
          "base_uri": "https://localhost:8080/",
          "height": 139
        },
        "outputId": "a945b917-72e3-46c1-adb8-3243c6e4afd5"
      },
      "source": [
        "df.features.head().values"
      ],
      "execution_count": 31,
      "outputs": [
        {
          "output_type": "execute_result",
          "data": {
            "text/plain": [
              "array(['[{\"key\":\"Gender\",\"value\":[\"Men\"]},{\"key\":\"Shoe Size\",\"value\":[\"M\"]},{\"key\":\"Shoe Category\",\"value\":[\"Men\\'s Shoes\"]},{\"key\":\"Color\",\"value\":[\"Multicolor\"]},{\"key\":\"Manufacturer Part Number\",\"value\":[\"8190-W-NAVY-7.5\"]},{\"key\":\"Brand\",\"value\":[\"Josmo\"]}]',\n",
              "       '[{\"key\":\"Gender\",\"value\":[\"Men\"]},{\"key\":\"Shoe Size\",\"value\":[\"M\"]},{\"key\":\"Shoe Category\",\"value\":[\"Men\\'s Shoes\"]},{\"key\":\"Color\",\"value\":[\"Multicolor\"]},{\"key\":\"Manufacturer Part Number\",\"value\":[\"8190-W-NAVY-7.5\"]},{\"key\":\"Brand\",\"value\":[\"Josmo\"]}]',\n",
              "       '[{\"key\":\"Gender\",\"value\":[\"Men\"]},{\"key\":\"Color\",\"value\":[\"Black\"]},{\"key\":\"Shipping Weight (in pounds)\",\"value\":[\"0.45\"]},{\"key\":\"Condition\",\"value\":[\"New\"]},{\"key\":\"Brand\",\"value\":[\"SERVUS BY HONEYWELL\"]},{\"key\":\"manufacturer_part_number\",\"value\":[\"ZSR101BLMLG\"]}]',\n",
              "       '[{\"key\":\"Gender\",\"value\":[\"Men\"]},{\"key\":\"Color\",\"value\":[\"Black\"]},{\"key\":\"Shipping Weight (in pounds)\",\"value\":[\"0.45\"]},{\"key\":\"Condition\",\"value\":[\"New\"]},{\"key\":\"Brand\",\"value\":[\"SERVUS BY HONEYWELL\"]},{\"key\":\"manufacturer_part_number\",\"value\":[\"ZSR101BLMLG\"]}]',\n",
              "       '[{\"key\":\"Gender\",\"value\":[\"Men\"]},{\"key\":\"Color\",\"value\":[\"Black\"]},{\"key\":\"Shipping Weight (in pounds)\",\"value\":[\"0.45\"]},{\"key\":\"Condition\",\"value\":[\"New\"]},{\"key\":\"Brand\",\"value\":[\"SERVUS BY HONEYWELL\"]},{\"key\":\"manufacturer_part_number\",\"value\":[\"ZSR101BLMLG\"]}]'],\n",
              "      dtype=object)"
            ]
          },
          "metadata": {
            "tags": []
          },
          "execution_count": 31
        }
      ]
    },
    {
      "cell_type": "code",
      "metadata": {
        "id": "I-Cmb4bQCRJs",
        "colab_type": "code",
        "colab": {
          "base_uri": "https://localhost:8080/",
          "height": 34
        },
        "outputId": "8e34072a-a52f-4d9f-aad1-e430e208cc23"
      },
      "source": [
        "test = {'key': 'value'}\n",
        "test['key']\n",
        "\n",
        "str(test)"
      ],
      "execution_count": 32,
      "outputs": [
        {
          "output_type": "execute_result",
          "data": {
            "text/plain": [
              "\"{'key': 'value'}\""
            ]
          },
          "metadata": {
            "tags": []
          },
          "execution_count": 32
        }
      ]
    },
    {
      "cell_type": "code",
      "metadata": {
        "id": "bmJ1NWQ0ECQ_",
        "colab_type": "code",
        "colab": {
          "base_uri": "https://localhost:8080/",
          "height": 34
        },
        "outputId": "ea93e40e-b2e6-41f5-c97b-6f8aff1cb72c"
      },
      "source": [
        "str_dict = '[{\"key\":\"Gender\",\"value\":[\"Men\"]},{\"key\":\"Shoe Size\",\"value\":[\"M\"]},{\"key\":\"Shoe Category\",\"value\":[\"Men\\'s Shoes\"]},{\"key\":\"Color\",\"value\":[\"Multicolor\"]},{\"key\":\"Manufacturer Part Number\",\"value\":[\"8190-W-NAVY-7.5\"]},{\"key\":\"Brand\",\"value\":[\"Josmo\"]}]'\n",
        "#literal_eval(str_dict) [0]['key']\n",
        "#literal_eval(str_dict) [0]['value']\n",
        "literal_eval(str_dict) [0]['value'][0]"
      ],
      "execution_count": 33,
      "outputs": [
        {
          "output_type": "execute_result",
          "data": {
            "text/plain": [
              "'Men'"
            ]
          },
          "metadata": {
            "tags": []
          },
          "execution_count": 33
        }
      ]
    },
    {
      "cell_type": "code",
      "metadata": {
        "id": "DHAGSMzMFLjG",
        "colab_type": "code",
        "colab": {}
      },
      "source": [
        "#def parse_features(x):\n",
        " # if str(x) == 'nan': return [] # jeżeli wartość jest pusta to pusta lista\n",
        " # return literal_eval(x)\n",
        "#replace('\\\\\", '\"'))\n",
        "#  df['features_parsed'] = df['features'].map(parse_features)"
      ],
      "execution_count": 0,
      "outputs": []
    },
    {
      "cell_type": "code",
      "metadata": {
        "id": "AbWym6QSIFgO",
        "colab_type": "code",
        "colab": {}
      },
      "source": [
        " def parse_features(x):\n",
        "  output_dict = {}\n",
        "  if str(x) == 'nan': return output_dict\n",
        "  features = literal_eval(x.replace('\\\\\"', '\"'))\n",
        "  for item in features:\n",
        "    key = item['key'].lower().strip()\n",
        "    value = item['value'][0].lower().strip()\n",
        "    output_dict[key] = value\n",
        "  return output_dict\n",
        "df['features_parsed'] = df['features'].map(parse_features)"
      ],
      "execution_count": 0,
      "outputs": []
    },
    {
      "cell_type": "code",
      "metadata": {
        "id": "hRQpGEP5Gemo",
        "colab_type": "code",
        "colab": {
          "base_uri": "https://localhost:8080/",
          "height": 139
        },
        "outputId": "1ea40b46-235f-4572-9a80-528dcfc5f6f6"
      },
      "source": [
        "df['features_parsed'].head().values"
      ],
      "execution_count": 36,
      "outputs": [
        {
          "output_type": "execute_result",
          "data": {
            "text/plain": [
              "array([{'gender': 'men', 'shoe size': 'm', 'shoe category': \"men's shoes\", 'color': 'multicolor', 'manufacturer part number': '8190-w-navy-7.5', 'brand': 'josmo'},\n",
              "       {'gender': 'men', 'shoe size': 'm', 'shoe category': \"men's shoes\", 'color': 'multicolor', 'manufacturer part number': '8190-w-navy-7.5', 'brand': 'josmo'},\n",
              "       {'gender': 'men', 'color': 'black', 'shipping weight (in pounds)': '0.45', 'condition': 'new', 'brand': 'servus by honeywell', 'manufacturer_part_number': 'zsr101blmlg'},\n",
              "       {'gender': 'men', 'color': 'black', 'shipping weight (in pounds)': '0.45', 'condition': 'new', 'brand': 'servus by honeywell', 'manufacturer_part_number': 'zsr101blmlg'},\n",
              "       {'gender': 'men', 'color': 'black', 'shipping weight (in pounds)': '0.45', 'condition': 'new', 'brand': 'servus by honeywell', 'manufacturer_part_number': 'zsr101blmlg'}],\n",
              "      dtype=object)"
            ]
          },
          "metadata": {
            "tags": []
          },
          "execution_count": 36
        }
      ]
    },
    {
      "cell_type": "code",
      "metadata": {
        "id": "IjaT8OhReJCL",
        "colab_type": "code",
        "colab": {
          "base_uri": "https://localhost:8080/",
          "height": 34
        },
        "outputId": "3930ef6c-9263-4385-e879-36a33a53fcc7"
      },
      "source": [
        "keys = set()\n",
        "\n",
        "df['features_parsed'].map( lambda x: keys.update(x.keys()))\n",
        "\n",
        "len(keys)\n"
      ],
      "execution_count": 37,
      "outputs": [
        {
          "output_type": "execute_result",
          "data": {
            "text/plain": [
              "476"
            ]
          },
          "metadata": {
            "tags": []
          },
          "execution_count": 37
        }
      ]
    },
    {
      "cell_type": "code",
      "metadata": {
        "id": "RJL_znuVefq1",
        "colab_type": "code",
        "colab": {
          "base_uri": "https://localhost:8080/",
          "height": 66,
          "referenced_widgets": [
            "da0e8335dafd4f32a8b0de9c645b1532",
            "7f65b8d7b74648d0b2cf43fc0a7dcd40",
            "4c5d54be89444299847e2d4ea97d47e0",
            "3799f0dbf8ba45578f42ef894ff482ce",
            "c9b8c2efbcc5448a9b2848f2a5e9e804",
            "e33d69fb4d9f499789b887a323c0de80",
            "ae46d7c5e446498090e3cda941cfa380",
            "cc84444a53524fe6a9dbc80403510914"
          ]
        },
        "outputId": "9c5e3b7c-464b-45f8-b6a5-c0c026cbd6b7"
      },
      "source": [
        "def get_name_feat(key):\n",
        "  return 'feat_' + key\n",
        "  \n",
        "for key in tqdm_notebook(keys):\n",
        "  #print(key)\n",
        "  #break\n",
        "  df[get_name_feat(key)] = df.features_parsed.map(lambda feats:feats[key]  if key in feats else np.nan)"
      ],
      "execution_count": 38,
      "outputs": [
        {
          "output_type": "display_data",
          "data": {
            "application/vnd.jupyter.widget-view+json": {
              "model_id": "da0e8335dafd4f32a8b0de9c645b1532",
              "version_minor": 0,
              "version_major": 2
            },
            "text/plain": [
              "HBox(children=(IntProgress(value=0, max=476), HTML(value='')))"
            ]
          },
          "metadata": {
            "tags": []
          }
        },
        {
          "output_type": "stream",
          "text": [
            "\n"
          ],
          "name": "stdout"
        }
      ]
    },
    {
      "cell_type": "code",
      "metadata": {
        "id": "fDLCGGyuhf9t",
        "colab_type": "code",
        "colab": {
          "base_uri": "https://localhost:8080/",
          "height": 153
        },
        "outputId": "ba1b650a-7ad8-4d56-ea55-88256c733aa1"
      },
      "source": [
        "df.columns"
      ],
      "execution_count": 39,
      "outputs": [
        {
          "output_type": "execute_result",
          "data": {
            "text/plain": [
              "Index(['id', 'asins', 'brand', 'categories', 'colors', 'count', 'dateadded',\n",
              "       'dateupdated', 'descriptions', 'dimension',\n",
              "       ...\n",
              "       'feat_stylenumber', 'feat_charger included', 'feat_sub type',\n",
              "       'feat_waist', 'feat_lining material', 'feat_bag size range',\n",
              "       'feat_material detail-1', 'feat_crystal', 'feat_chest size',\n",
              "       'feat_contains batteries'],\n",
              "      dtype='object', length=526)"
            ]
          },
          "metadata": {
            "tags": []
          },
          "execution_count": 39
        }
      ]
    },
    {
      "cell_type": "code",
      "metadata": {
        "id": "39KtssBzeI-j",
        "colab_type": "code",
        "colab": {}
      },
      "source": [
        "keys_stat = {}\n",
        "for key in keys:\n",
        "  keys_stat[key] = df[False == df[get_name_feat(key)].isnull()].shape[0] / df.shape[0] * 100"
      ],
      "execution_count": 0,
      "outputs": []
    },
    {
      "cell_type": "code",
      "metadata": {
        "id": "JtzfvmZ7Xty7",
        "colab_type": "code",
        "colab": {
          "base_uri": "https://localhost:8080/",
          "height": 102
        },
        "outputId": "e5d7d35d-1abf-4921-d2d5-74b66ee466ff"
      },
      "source": [
        "{k:v for k,v in keys_stat.items() if v > 30}\n",
        "#output tylko gender występuje w 50% parametrów"
      ],
      "execution_count": 41,
      "outputs": [
        {
          "output_type": "execute_result",
          "data": {
            "text/plain": [
              "{'brand': 48.62691466083151,\n",
              " 'color': 47.784463894967175,\n",
              " 'gender': 50.17505470459519,\n",
              " 'manufacturer part number': 36.252735229759296,\n",
              " 'material': 34.9070021881838}"
            ]
          },
          "metadata": {
            "tags": []
          },
          "execution_count": 41
        }
      ]
    },
    {
      "cell_type": "code",
      "metadata": {
        "id": "e47btm8jbqK_",
        "colab_type": "code",
        "colab": {}
      },
      "source": [
        "#normalizacja jednostek wagi \n",
        "def normalize_to_gram(line):\n",
        "    if str(line) == 'nan' : return -1\n",
        "    \n",
        "\n",
        "    value, unit = line.lower().split(' ')\n",
        "    value = float(value)\n",
        "\n",
        "    if unit == 'lbs' or unit == 'lb' or unit == 'pounds':\n",
        "        value *= 453.592\n",
        "    elif 'kg' == unit:\n",
        "        value *= 1000\n",
        "    elif 'ounces' == unit:\n",
        "        value *= 28.3495\n",
        "    elif 'g' == unit:\n",
        "        pass\n",
        "    else:\n",
        "        print(\"ERROR: \", unit)\n",
        "    return value\n",
        "\n",
        "df['weight_norm'] = df['weight'].map(normalize_to_gram)"
      ],
      "execution_count": 0,
      "outputs": []
    },
    {
      "cell_type": "code",
      "metadata": {
        "id": "b-TxjXsCYv44",
        "colab_type": "code",
        "colab": {}
      },
      "source": [
        "df['feat_brand_cat'] = df['feat_brand'].factorize()[0]\n",
        "df['feat_color_cat'] = df['feat_color'].factorize()[0]\n",
        "df['feat_gender_cat'] = df['feat_gender'].factorize()[0]\n",
        "df['feat_manufacturer_cat'] = df['feat_manufacturer'].factorize()[0]\n",
        "df['feat_material_cat'] = df['feat_material'].factorize()[0]\n",
        "\n",
        "df['feat_sport_cat'] = df['feat_sport'].factorize()[0]\n",
        "df['feat_size_cat'] = df['feat_size'].factorize()[0]\n",
        "df['feat_weight_norm_cat'] = df['feat_weight'].factorize()[0]\n",
        "\n",
        "#wersja z usprawnionym normlaizacją dla wszystkich _cat\n",
        "for key in keys:\n",
        "  df[get_name_feat(key) + '_cat'] = df[get_name_feat(key)].factorize()[0]"
      ],
      "execution_count": 0,
      "outputs": []
    },
    {
      "cell_type": "code",
      "metadata": {
        "id": "eH73w4ksZG3h",
        "colab_type": "code",
        "colab": {
          "base_uri": "https://localhost:8080/",
          "height": 34
        },
        "outputId": "77e8ac7d-4c09-4049-bc1f-feab1c0fc92d"
      },
      "source": [
        "run_model(['feat_brand_cat'])"
      ],
      "execution_count": 86,
      "outputs": [
        {
          "output_type": "execute_result",
          "data": {
            "text/plain": [
              "(-61.79232381882688, 3.7460167781236606)"
            ]
          },
          "metadata": {
            "tags": []
          },
          "execution_count": 86
        }
      ]
    },
    {
      "cell_type": "code",
      "metadata": {
        "id": "fEp3xXW4aSr8",
        "colab_type": "code",
        "colab": {
          "base_uri": "https://localhost:8080/",
          "height": 34
        },
        "outputId": "0b5d8b6d-bbde-4c2d-bcae-1030d2b46f06"
      },
      "source": [
        "df['brand'] = df['brand'].map(lambda x: str(x).lower())\n",
        "df[df.brand == df.feat_brand].shape"
      ],
      "execution_count": 87,
      "outputs": [
        {
          "output_type": "execute_result",
          "data": {
            "text/plain": [
              "(8846, 1004)"
            ]
          },
          "metadata": {
            "tags": []
          },
          "execution_count": 87
        }
      ]
    },
    {
      "cell_type": "code",
      "metadata": {
        "id": "djDaR8ATalsM",
        "colab_type": "code",
        "colab": {}
      },
      "source": [
        "feats = ['']"
      ],
      "execution_count": 0,
      "outputs": []
    },
    {
      "cell_type": "code",
      "metadata": {
        "id": "CeaxnPrIapM3",
        "colab_type": "code",
        "colab": {
          "base_uri": "https://localhost:8080/",
          "height": 34
        },
        "outputId": "ba7c9463-0b9e-4319-b181-e4aa9c57babd"
      },
      "source": [
        "model = RandomForestRegressor(max_depth=5, n_estimators=100)\n",
        "run_model(['brand_cat'], model)"
      ],
      "execution_count": 89,
      "outputs": [
        {
          "output_type": "execute_result",
          "data": {
            "text/plain": [
              "(-57.280639556929074, 4.166458730913197)"
            ]
          },
          "metadata": {
            "tags": []
          },
          "execution_count": 89
        }
      ]
    },
    {
      "cell_type": "code",
      "metadata": {
        "id": "E8IG_ENWYYMi",
        "colab_type": "code",
        "colab": {
          "base_uri": "https://localhost:8080/",
          "height": 1000
        },
        "outputId": "54be112f-2204-4b08-f9d0-cb279bb3ad65"
      },
      "source": [
        "feats_cat = [x for x in df.columns if 'cat' in x]\n",
        "feats_cat"
      ],
      "execution_count": 90,
      "outputs": [
        {
          "output_type": "execute_result",
          "data": {
            "text/plain": [
              "['categories',\n",
              " 'brand_cat',\n",
              " 'feat_recommended location',\n",
              " 'feat_catalog',\n",
              " 'feat_location - country',\n",
              " 'feat_fabrication',\n",
              " 'feat_location - city/state',\n",
              " 'feat_certifications and listings',\n",
              " 'feat_shoe category',\n",
              " 'feat_clothing category',\n",
              " 'feat_multi pack indicator',\n",
              " 'feat_brand_cat',\n",
              " 'feat_color_cat',\n",
              " 'feat_gender_cat',\n",
              " 'feat_manufacturer_cat',\n",
              " 'feat_material_cat',\n",
              " 'feat_sport_cat',\n",
              " 'feat_size_cat',\n",
              " 'feat_age segment_cat',\n",
              " 'feat_seller inventory number_cat',\n",
              " 'feat_fastener_cat',\n",
              " 'feat_heart rate monitor_cat',\n",
              " 'feat_athlete_cat',\n",
              " 'feat_case diameter_cat',\n",
              " 'feat_style number_cat',\n",
              " 'feat_hammer loop_cat',\n",
              " 'feat_era_cat',\n",
              " 'feat_leg opening:_cat',\n",
              " 'feat_pattern_cat',\n",
              " 'feat_number of pieces_cat',\n",
              " 'feat_����������������_cat',\n",
              " 'feat_hardsided or softsided_cat',\n",
              " 'feat_vehicle type_cat',\n",
              " 'feat_dial markers_cat',\n",
              " 'feat_is portable_cat',\n",
              " 'feat_country of manufacturer_cat',\n",
              " 'feat_features_cat',\n",
              " 'feat_style_cat',\n",
              " 'feat_style:_cat',\n",
              " 'feat_product id_cat',\n",
              " 'feat_release_cat',\n",
              " 'feat_temple length_cat',\n",
              " 'feat_smart watch_cat',\n",
              " 'feat_international shipping_cat',\n",
              " 'feat_euro size_cat',\n",
              " 'feat_work shoes_cat',\n",
              " 'feat_product name_cat',\n",
              " 'feat_hands_cat',\n",
              " 'feat_shipping weight_cat',\n",
              " 'feat_sports team_cat',\n",
              " 'feat_item package quantity_cat',\n",
              " 'feat_ean_cat',\n",
              " 'feat_leather grade_cat',\n",
              " 'feat_ring style_cat',\n",
              " 'feat_chest_cat',\n",
              " 'feat_country of origin assembly:_cat',\n",
              " 'feat_primary color_cat',\n",
              " 'feat_watch case shape_cat',\n",
              " 'feat_bridge/temple size:_cat',\n",
              " 'feat_age group_cat',\n",
              " 'feat_sole_cat',\n",
              " 'feat_made in_cat',\n",
              " 'feat_size/dimensions_cat',\n",
              " 'feat_sock style_cat',\n",
              " 'feat_garment care_cat',\n",
              " 'feat_ul safety listing_cat',\n",
              " 'feat_mechanic_cat',\n",
              " 'feat_bridge size:_cat',\n",
              " 'feat_variant group id_cat',\n",
              " 'feat_outer material_cat',\n",
              " 'feat_casual & dress shoe style_cat',\n",
              " 'feat_licensed_cat',\n",
              " 'feat_neckline_cat',\n",
              " 'feat_fishing_cat',\n",
              " 'feat_type 2_cat',\n",
              " 'feat_audience_cat',\n",
              " 'feat_features & fastening_cat',\n",
              " 'feat_design_cat',\n",
              " 'feat_golf shoe type_cat',\n",
              " 'feat_case tone_cat',\n",
              " 'feat_high visibility (ansi compliant)_cat',\n",
              " 'feat_best sellers rank_cat',\n",
              " 'feat_light transmission (vlt)_cat',\n",
              " 'feat_special features_cat',\n",
              " 'feat_capacity_cat',\n",
              " 'feat_style #_cat',\n",
              " 'feat_bracelet style_cat',\n",
              " 'feat_cm_cat',\n",
              " 'feat_recommended location_cat',\n",
              " 'feat_jewelry setting_cat',\n",
              " 'feat_retail price_cat',\n",
              " 'feat_number of heat settings_cat',\n",
              " 'feat_bridge_cat',\n",
              " 'feat_diameter_cat',\n",
              " 'feat_gps_cat',\n",
              " 'feat_closure style_cat',\n",
              " 'feat_to fit_cat',\n",
              " 'feat_model no._cat',\n",
              " 'feat_compatible devices_cat',\n",
              " 'feat_fits most screen size_cat',\n",
              " 'feat_fabric_cat',\n",
              " 'feat_designer_cat',\n",
              " 'feat_terrain_cat',\n",
              " 'feat_looks best on these face shapes:_cat',\n",
              " 'feat_manufacturer_part_number_cat',\n",
              " 'feat_main color_cat',\n",
              " 'feat_footwear type_cat',\n",
              " 'feat_sizearm_cat',\n",
              " 'feat_country of origin - assembly_cat',\n",
              " 'feat_catalog_cat',\n",
              " 'feat_type of sole_cat',\n",
              " 'feat_tactical_cat',\n",
              " 'feat_polarized_cat',\n",
              " 'feat_use_cat',\n",
              " 'feat_box_cat',\n",
              " 'feat_is polarized_cat',\n",
              " 'feat_dial material_cat',\n",
              " 'feat_parts_cat',\n",
              " 'feat_item color_cat',\n",
              " 'feat_eyewear frame style_cat',\n",
              " 'feat_comfort technology_cat',\n",
              " 'feat_sock size_cat',\n",
              " 'feat_fabric care_cat',\n",
              " 'feat_age range_cat',\n",
              " 'feat_age_cat',\n",
              " 'feat_height_cat',\n",
              " 'feat_lens tint_cat',\n",
              " 'feat_finish_cat',\n",
              " 'feat_pocket_cat',\n",
              " 'feat_is weather-resistant_cat',\n",
              " 'feat_quantity in set_cat',\n",
              " 'feat_hat style_cat',\n",
              " 'feat_lined_cat',\n",
              " 'feat_expandable_cat',\n",
              " 'feat_what includes_cat',\n",
              " 'feat_vendor description_cat',\n",
              " 'feat_gold karat_cat',\n",
              " 'feat_date_cat',\n",
              " 'feat_safety feature_cat',\n",
              " 'feat_character_cat',\n",
              " 'feat_number of wheels_cat',\n",
              " 'feat_navy blue_cat',\n",
              " 'feat_construction_cat',\n",
              " 'feat_animal type_cat',\n",
              " 'feat_product dimensions_cat',\n",
              " 'feat_net weight_cat',\n",
              " 'feat_fastener type_cat',\n",
              " 'feat_fabric material_cat',\n",
              " 'feat_chain included_cat',\n",
              " 'feat_location - country_cat',\n",
              " 'feat_full product manual_cat',\n",
              " 'feat_removable liner_cat',\n",
              " 'feat_year made_cat',\n",
              " 'feat_number of pockets_cat',\n",
              " 'feat_fabrication_cat',\n",
              " 'feat_country of manufacture_cat',\n",
              " 'feat_fits over eyeglasses_cat',\n",
              " 'feat_hunting_cat',\n",
              " 'feat_productgroup_cat',\n",
              " 'feat_instrument_cat',\n",
              " 'feat_metal color_cat',\n",
              " 'feat_used with equipment type_cat',\n",
              " 'feat_country of origin_cat',\n",
              " 'feat_arm_cat',\n",
              " 'feat_front_cat',\n",
              " 'feat_fits model_cat',\n",
              " 'feat_lens_cat',\n",
              " 'feat_polarised_cat',\n",
              " 'feat_item width_cat',\n",
              " 'feat_insulated_cat',\n",
              " 'feat_wind resistant_cat',\n",
              " 'feat_lens color family_cat',\n",
              " 'feat_eye size:_cat',\n",
              " 'feat_weight_cat',\n",
              " 'feat_general warranty_cat',\n",
              " 'feat_hood_cat',\n",
              " 'feat_boot height_cat',\n",
              " 'feat_target audience_cat',\n",
              " 'feat_pant style_cat',\n",
              " 'feat_frame shape_cat',\n",
              " 'feat_colour_cat',\n",
              " 'feat_manufacturer part number_cat',\n",
              " 'feat_interior pockets_cat',\n",
              " 'feat_материал_cat',\n",
              " 'feat_removable hood_cat',\n",
              " 'feat_suitable for_cat',\n",
              " 'feat_movement_cat',\n",
              " 'feat_lens socket width_cat',\n",
              " 'feat_sub style_cat',\n",
              " 'feat_adidas_cat',\n",
              " 'feat_display technology_cat',\n",
              " 'feat_case back_cat',\n",
              " 'feat_weather resistant_cat',\n",
              " 'feat_place of origin_cat',\n",
              " 'feat_product #_cat',\n",
              " 'feat_condition_cat',\n",
              " 'feat_eye protection type_cat',\n",
              " 'feat_rx-able_cat',\n",
              " 'feat_charge time (minutes)_cat',\n",
              " 'feat_location - city/state_cat',\n",
              " 'feat_metal stamp_cat',\n",
              " 'feat_article_cat',\n",
              " 'feat_cleaning, care & maintenance_cat',\n",
              " 'feat_style code_cat',\n",
              " 'feat_power reserve_cat',\n",
              " 'feat_necklace type_cat',\n",
              " 'feat_thick, warm, cozy_cat',\n",
              " 'feat_bed size_cat',\n",
              " 'feat_color family_cat',\n",
              " 'feat_wash_cat',\n",
              " 'feat_shipping to usa_cat',\n",
              " 'feat_polarized lenses_cat',\n",
              " 'feat_wheel type_cat',\n",
              " 'feat_contains cubic zirconia_cat',\n",
              " 'feat_inv_cat',\n",
              " 'feat_is energy star-certified_cat',\n",
              " 'feat_clothing size type_cat',\n",
              " 'feat_crown_cat',\n",
              " 'feat_mirrored_cat',\n",
              " 'feat_batteries required?_cat',\n",
              " 'feat_sports league_cat',\n",
              " 'feat_weather-resistant_cat',\n",
              " 'feat_manufacturer sku_cat',\n",
              " 'feat_hairstyle_cat',\n",
              " 'feat_has mercury_cat',\n",
              " 'feat_fine or fashion_cat',\n",
              " 'feat_kids backpacks_cat',\n",
              " 'feat_fit_cat',\n",
              " 'feat_main colour_cat',\n",
              " 'feat_shoe width_cat',\n",
              " 'feat_sku#_cat',\n",
              " 'feat_model number_cat',\n",
              " 'feat_material composition_cat',\n",
              " 'feat_has adaptive lenses_cat',\n",
              " 'feat_inseam_cat',\n",
              " 'feat_case finish_cat',\n",
              " 'feat_reinforced pockets_cat',\n",
              " 'feat_profession_cat',\n",
              " 'feat_item weight unit of measure_cat',\n",
              " 'feat_mpn#_cat',\n",
              " 'feat_frame material:_cat',\n",
              " 'feat_bridge width_cat',\n",
              " 'feat_alarm_cat',\n",
              " 'feat_fits styles_cat',\n",
              " 'feat_is orthopedic_cat',\n",
              " 'feat_domestic shipping_cat',\n",
              " 'feat_chronograph_cat',\n",
              " 'feat_primary shelf id_cat',\n",
              " 'feat_elastic banded waist_cat',\n",
              " 'feat_uv rating_cat',\n",
              " 'feat_pattern or design_cat',\n",
              " 'feat_black_cat',\n",
              " 'feat_case thickness_cat',\n",
              " 'feat_accessory type_cat',\n",
              " 'feat_recommended use_cat',\n",
              " 'feat_face shape_cat',\n",
              " 'feat_resizable_cat',\n",
              " 'feat_frame color_cat',\n",
              " 'feat_msrp_cat',\n",
              " 'feat_sleeve length_cat',\n",
              " 'feat_auto_cat',\n",
              " 'feat_series name_cat',\n",
              " 'feat_lens color_cat',\n",
              " 'feat_clothing type_cat',\n",
              " 'feat_date first available at amazon.co.uk_cat',\n",
              " 'feat_characteristics_cat',\n",
              " 'feat_count_cat',\n",
              " 'feat_temple size:_cat',\n",
              " 'feat_assembled in country of origin_cat',\n",
              " 'feat_case material_cat',\n",
              " 'feat_clothing product type_cat',\n",
              " 'feat_shoe closure_cat',\n",
              " 'feat_clasp type_cat',\n",
              " 'feat_airport friendly_cat',\n",
              " 'feat_lining_cat',\n",
              " 'feat_water-resistant_cat',\n",
              " 'feat_wheeled_cat',\n",
              " 'feat_rise_cat',\n",
              " 'feat_waist size_cat',\n",
              " 'feat_product type_cat',\n",
              " 'feat_type_cat',\n",
              " 'feat_dial color_cat',\n",
              " 'feat_lens technology_cat',\n",
              " 'feat_attachment_cat',\n",
              " 'feat_polarized?_cat',\n",
              " 'feat_disclosures_cat',\n",
              " 'feat_front style_cat',\n",
              " 'feat_motion control_cat',\n",
              " 'feat_guaranteed authentic_cat',\n",
              " 'feat_conflict_cat',\n",
              " 'feat_has paper wood_cat',\n",
              " 'feat_band width_cat',\n",
              " 'feat_fabric content_cat',\n",
              " 'feat_has expiration_cat',\n",
              " 'feat_chain length_cat',\n",
              " 'feat_pronation_cat',\n",
              " 'feat_packageweight_cat',\n",
              " 'feat_walmart no._cat',\n",
              " 'feat_shade_cat',\n",
              " 'feat_light weight_cat',\n",
              " 'feat_age gender group_cat',\n",
              " 'feat_issued/ not-issued_cat',\n",
              " 'feat_fuel type_cat',\n",
              " 'feat_fits brands_cat',\n",
              " 'feat_frame style_cat',\n",
              " 'feat_item spec attr - style (ebay)_cat',\n",
              " 'feat_uv protection_cat',\n",
              " 'feat_amazonbestsellersrank_cat',\n",
              " 'feat_casing_cat',\n",
              " 'feat_waterproof_cat',\n",
              " 'feat_year_cat',\n",
              " 'feat_free item_cat',\n",
              " 'feat_item type_cat',\n",
              " 'feat_chain/necklace length (in.)_cat',\n",
              " 'feat_diamond clarity_cat',\n",
              " 'feat_designed for_cat',\n",
              " 'feat_frame material_cat',\n",
              " 'feat_theme_cat',\n",
              " 'feat_heat zones_cat',\n",
              " 'feat_ground_cat',\n",
              " 'feat_spikes type_cat',\n",
              " 'feat_lens type_cat',\n",
              " 'feat_is water-resistant_cat',\n",
              " 'feat_machine washable_cat',\n",
              " 'feat_certifications and listings_cat',\n",
              " 'feat_product in inches (l x w x h)_cat',\n",
              " 'feat_model_cat',\n",
              " 'feat_is wheeled_cat',\n",
              " 'feat_foot arch_cat',\n",
              " 'feat_band color_cat',\n",
              " 'feat_handbag style_cat',\n",
              " 'feat_fit:_cat',\n",
              " 'feat_power type_cat',\n",
              " 'feat_fits models_cat',\n",
              " 'feat_watch shape_cat',\n",
              " 'feat_part type_cat',\n",
              " 'feat_age start_cat',\n",
              " 'feat_carats_cat',\n",
              " 'feat_ring size_cat',\n",
              " 'feat_season_cat',\n",
              " 'feat_date first available at amazon.ca_cat',\n",
              " 'feat_protects against_cat',\n",
              " 'feat_safety apparel product type_cat',\n",
              " 'feat_enhanced visibility (reflective)_cat',\n",
              " 'feat_battery voltage_cat',\n",
              " 'feat_shoe size_cat',\n",
              " 'feat_shape_cat',\n",
              " 'feat_number of items_cat',\n",
              " 'feat_shoe category_cat',\n",
              " 'feat_flame resistant_cat',\n",
              " 'feat_mpn_cat',\n",
              " 'feat_color/finish family_cat',\n",
              " 'feat_is dark sky-compliant_cat',\n",
              " 'feat_shirt size_cat',\n",
              " 'feat_jacket length_cat',\n",
              " 'feat_genre_cat',\n",
              " 'feat_color mapping_cat',\n",
              " 'feat_watch style_cat',\n",
              " 'feat_technician_cat',\n",
              " 'feat_assembled product dimensions (l x w x h)_cat',\n",
              " 'feat_band manufacturer_cat',\n",
              " 'feat_international shipping?_cat',\n",
              " 'feat_sku number_cat',\n",
              " 'feat_country////region of manufacture_cat',\n",
              " 'feat_nike id_cat',\n",
              " 'feat_labor_cat',\n",
              " 'feat_applicable_cat',\n",
              " 'feat_watch power source_cat',\n",
              " 'feat_frame type_cat',\n",
              " 'feat_manufacturer number_cat',\n",
              " 'feat_feature_cat',\n",
              " 'feat_clothing category_cat',\n",
              " 'feat_leather :_cat',\n",
              " 'feat_number of compartments_cat',\n",
              " 'feat_case type:_cat',\n",
              " 'feat_assembled product weight_cat',\n",
              " 'feat_country of origin components:_cat',\n",
              " 'feat_batteries required_cat',\n",
              " 'feat_szie_cat',\n",
              " 'feat_upper material_cat',\n",
              " 'feat_100% adidas authentic_cat',\n",
              " 'feat_sleeve style_cat',\n",
              " 'feat_shoe fastening type_cat',\n",
              " 'feat_combined shipping_cat',\n",
              " 'feat_diamond color_cat',\n",
              " 'feat_clothing size_cat',\n",
              " 'feat_fabric care instructions_cat',\n",
              " 'feat_stone type_cat',\n",
              " 'feat_watch band material_cat',\n",
              " 'feat_nickel free_cat',\n",
              " 'feat_nike product #_cat',\n",
              " 'feat_video game platform_cat',\n",
              " 'feat_country/ organization_cat',\n",
              " 'feat_picture_cat',\n",
              " 'feat_resolution_cat',\n",
              " 'feat_name_cat',\n",
              " 'feat_water resistant_cat',\n",
              " 'feat_case type_cat',\n",
              " 'feat_antiscratch lens coating_cat',\n",
              " 'feat_band material_cat',\n",
              " 'feat_atpv arc rating_cat',\n",
              " 'feat_toe type_cat',\n",
              " 'feat_fabric type_cat',\n",
              " 'feat_multi pack indicator_cat',\n",
              " 'feat_protection_cat',\n",
              " 'feat_material type_cat',\n",
              " 'feat_gemstone type_cat',\n",
              " 'feat_style name_cat',\n",
              " 'feat_lens width_cat',\n",
              " 'feat_safety features_cat',\n",
              " 'feat_age end_cat',\n",
              " 'feat_transactionid_cat',\n",
              " 'feat_adjustable_cat',\n",
              " 'feat_auto shut-off_cat',\n",
              " 'feat_metal type_cat',\n",
              " 'feat_bezel_cat',\n",
              " 'feat_autographed_cat',\n",
              " 'feat_global composite sports type_cat',\n",
              " 'feat_impact resistant_cat',\n",
              " 'feat_includes_cat',\n",
              " 'feat_sku_cat',\n",
              " 'feat_isbn_cat',\n",
              " 'feat_insulation_cat',\n",
              " 'feat_authenticity_cat',\n",
              " 'feat_digital camera_cat',\n",
              " 'feat_frame depth_cat',\n",
              " 'feat_resolution megapixels_cat',\n",
              " 'feat_batteries included?_cat',\n",
              " 'feat_fit to_cat',\n",
              " 'feat_display_cat',\n",
              " 'feat_band length_cat',\n",
              " 'feat_shoe height_cat',\n",
              " 'feat_width_cat',\n",
              " 'feat_package_cat',\n",
              " 'feat_military style_cat',\n",
              " 'feat_lens material:_cat',\n",
              " 'feat_cushioning_cat',\n",
              " 'feat_leg_cat',\n",
              " 'feat_stock no._cat',\n",
              " 'feat_length_cat',\n",
              " 'feat_label_cat',\n",
              " 'feat_materials_cat',\n",
              " 'feat_reinforced knee_cat',\n",
              " 'feat_lens material_cat',\n",
              " 'feat_part number_cat',\n",
              " 'feat_occasion_cat',\n",
              " 'feat_hooded_cat',\n",
              " 'feat_origin of components_cat',\n",
              " 'feat_item character_cat',\n",
              " 'feat_contained battery type_cat',\n",
              " 'feat_compass_cat',\n",
              " 'feat_sizebridge_cat',\n",
              " 'feat_band type_cat',\n",
              " 'feat_band length (in.)_cat',\n",
              " 'feat_item weight_cat',\n",
              " 'feat_stability_cat',\n",
              " 'feat_boxed-product dimensions_cat',\n",
              " 'feat_shipping weight (in pounds)_cat',\n",
              " 'feat_heel height_cat',\n",
              " 'feat_measurements:_cat',\n",
              " 'feat_purpose_cat',\n",
              " 'feat_is recyclable_cat',\n",
              " 'feat_country//region of manufacture_cat',\n",
              " 'feat_number of batteries included_cat',\n",
              " 'feat_item style_cat',\n",
              " 'feat_closure_cat',\n",
              " 'feat_battery type_cat',\n",
              " 'feat_is lined_cat',\n",
              " 'feat_very popular bag now a days_cat',\n",
              " 'feat_is waterproof_cat',\n",
              " 'feat_country/region of manufacture_cat',\n",
              " 'feat_subdial_cat',\n",
              " 'feat_overall material_cat',\n",
              " 'feat_country of origin - components_cat',\n",
              " 'feat_dimensions_cat',\n",
              " 'feat_date first available_cat',\n",
              " 'feat_colour code_cat',\n",
              " 'feat_stylenumber_cat',\n",
              " 'feat_charger included_cat',\n",
              " 'feat_sub type_cat',\n",
              " 'feat_waist_cat',\n",
              " 'feat_lining material_cat',\n",
              " 'feat_bag size range_cat',\n",
              " 'feat_material detail-1_cat',\n",
              " 'feat_crystal_cat',\n",
              " 'feat_chest size_cat',\n",
              " 'feat_contains batteries_cat',\n",
              " 'feat_weight_norm_cat']"
            ]
          },
          "metadata": {
            "tags": []
          },
          "execution_count": 90
        }
      ]
    },
    {
      "cell_type": "code",
      "metadata": {
        "id": "HaMPa414bJ6n",
        "colab_type": "code",
        "colab": {}
      },
      "source": [
        "feats = ['brand_cat','feat_brand_cat','feat_gender_cat','feat_material_cat','feat_size_cat', 'feat_weight_norm_cat']\n",
        "#feats += feats_cat\n",
        "#feats = list(set(feats)) # unikalna lista\n",
        "model = RandomForestRegressor(max_depth=5, n_estimators=100)\n",
        "\n",
        "result = run_model(feats, model)"
      ],
      "execution_count": 0,
      "outputs": []
    },
    {
      "cell_type": "code",
      "metadata": {
        "id": "WVo_XkzScCgx",
        "colab_type": "code",
        "colab": {
          "base_uri": "https://localhost:8080/",
          "height": 153
        },
        "outputId": "ab85e6b4-fbd1-40ba-b5e2-d3afb367cdcb"
      },
      "source": [
        "X = df[feats].values\n",
        "y = df['prices_amountmin'].values\n",
        "\n",
        "m = RandomForestRegressor(max_depth=5, n_estimators=100, random_state=0)\n",
        "m.fit(X,y)\n",
        "\n",
        "print(result)\n",
        "perm = PermutationImportance(m,random_state=1).fit(X,y);\n",
        "eli5.show_weights(perm, feature_names=feats)\n",
        "\n"
      ],
      "execution_count": 101,
      "outputs": [
        {
          "output_type": "stream",
          "text": [
            "(-57.00357565753129, 4.23338437860591)\n"
          ],
          "name": "stdout"
        },
        {
          "output_type": "execute_result",
          "data": {
            "text/html": [
              "\n",
              "    <style>\n",
              "    table.eli5-weights tr:hover {\n",
              "        filter: brightness(85%);\n",
              "    }\n",
              "</style>\n",
              "\n",
              "\n",
              "\n",
              "    \n",
              "\n",
              "    \n",
              "\n",
              "    \n",
              "\n",
              "    \n",
              "\n",
              "    \n",
              "\n",
              "    \n",
              "\n",
              "\n",
              "    \n",
              "\n",
              "    \n",
              "\n",
              "    \n",
              "\n",
              "    \n",
              "\n",
              "    \n",
              "\n",
              "    \n",
              "\n",
              "\n",
              "    \n",
              "\n",
              "    \n",
              "\n",
              "    \n",
              "\n",
              "    \n",
              "\n",
              "    \n",
              "        <table class=\"eli5-weights eli5-feature-importances\" style=\"border-collapse: collapse; border: none; margin-top: 0em; table-layout: auto;\">\n",
              "    <thead>\n",
              "    <tr style=\"border: none;\">\n",
              "        <th style=\"padding: 0 1em 0 0.5em; text-align: right; border: none;\">Weight</th>\n",
              "        <th style=\"padding: 0 0.5em 0 0.5em; text-align: left; border: none;\">Feature</th>\n",
              "    </tr>\n",
              "    </thead>\n",
              "    <tbody>\n",
              "    \n",
              "        <tr style=\"background-color: hsl(120, 100.00%, 80.00%); border: none;\">\n",
              "            <td style=\"padding: 0 1em 0 0.5em; text-align: right; border: none;\">\n",
              "                0.2579\n",
              "                \n",
              "                    &plusmn; 0.0101\n",
              "                \n",
              "            </td>\n",
              "            <td style=\"padding: 0 0.5em 0 0.5em; text-align: left; border: none;\">\n",
              "                brand_cat\n",
              "            </td>\n",
              "        </tr>\n",
              "    \n",
              "        <tr style=\"background-color: hsl(120, 100.00%, 89.79%); border: none;\">\n",
              "            <td style=\"padding: 0 1em 0 0.5em; text-align: right; border: none;\">\n",
              "                0.0988\n",
              "                \n",
              "                    &plusmn; 0.0074\n",
              "                \n",
              "            </td>\n",
              "            <td style=\"padding: 0 0.5em 0 0.5em; text-align: left; border: none;\">\n",
              "                feat_material_cat\n",
              "            </td>\n",
              "        </tr>\n",
              "    \n",
              "        <tr style=\"background-color: hsl(120, 100.00%, 94.15%); border: none;\">\n",
              "            <td style=\"padding: 0 1em 0 0.5em; text-align: right; border: none;\">\n",
              "                0.0445\n",
              "                \n",
              "                    &plusmn; 0.0042\n",
              "                \n",
              "            </td>\n",
              "            <td style=\"padding: 0 0.5em 0 0.5em; text-align: left; border: none;\">\n",
              "                feat_gender_cat\n",
              "            </td>\n",
              "        </tr>\n",
              "    \n",
              "        <tr style=\"background-color: hsl(120, 100.00%, 96.57%); border: none;\">\n",
              "            <td style=\"padding: 0 1em 0 0.5em; text-align: right; border: none;\">\n",
              "                0.0208\n",
              "                \n",
              "                    &plusmn; 0.0012\n",
              "                \n",
              "            </td>\n",
              "            <td style=\"padding: 0 0.5em 0 0.5em; text-align: left; border: none;\">\n",
              "                feat_brand_cat\n",
              "            </td>\n",
              "        </tr>\n",
              "    \n",
              "        <tr style=\"background-color: hsl(120, 100.00%, 97.46%); border: none;\">\n",
              "            <td style=\"padding: 0 1em 0 0.5em; text-align: right; border: none;\">\n",
              "                0.0136\n",
              "                \n",
              "                    &plusmn; 0.0010\n",
              "                \n",
              "            </td>\n",
              "            <td style=\"padding: 0 0.5em 0 0.5em; text-align: left; border: none;\">\n",
              "                feat_weight_norm_cat\n",
              "            </td>\n",
              "        </tr>\n",
              "    \n",
              "        <tr style=\"background-color: hsl(120, 100.00%, 99.57%); border: none;\">\n",
              "            <td style=\"padding: 0 1em 0 0.5em; text-align: right; border: none;\">\n",
              "                0.0011\n",
              "                \n",
              "                    &plusmn; 0.0004\n",
              "                \n",
              "            </td>\n",
              "            <td style=\"padding: 0 0.5em 0 0.5em; text-align: left; border: none;\">\n",
              "                feat_size_cat\n",
              "            </td>\n",
              "        </tr>\n",
              "    \n",
              "    \n",
              "    </tbody>\n",
              "</table>\n",
              "    \n",
              "\n",
              "    \n",
              "\n",
              "\n",
              "    \n",
              "\n",
              "    \n",
              "\n",
              "    \n",
              "\n",
              "    \n",
              "\n",
              "    \n",
              "\n",
              "    \n",
              "\n",
              "\n",
              "\n"
            ],
            "text/plain": [
              "<IPython.core.display.HTML object>"
            ]
          },
          "metadata": {
            "tags": []
          },
          "execution_count": 101
        }
      ]
    },
    {
      "cell_type": "markdown",
      "metadata": {
        "id": "CKa7TX87fhOh",
        "colab_type": "text"
      },
      "source": [
        "#output\n",
        "\n",
        "#Weight\tFeature\n",
        "#0.2578 ± 0.0112\tbrand_cat\n",
        "#0.1058 ± 0.0094\tfeat_material_cat\n",
        "#0.0423 ± 0.0043\tfeat_gender_cat\n",
        "#0.0213 ± 0.0011\tfeat_brand_cat\n",
        "#0.0077 ± 0.0004\tfeat_color_cat - usuwamy tą cechę jako taką która nie wpływa na wynik\n",
        "#0.0002 ± 0.0000\tfeat_manufacturer_cat - usuwamy tą cechę jako taką która nie wpływa na wynik"
      ]
    },
    {
      "cell_type": "markdown",
      "metadata": {
        "id": "Fjdt525ZeD9F",
        "colab_type": "text"
      },
      "source": [
        "0.2595 ± 0.0080\tbrand_cat - widać że Brand znacząco wpływa na wynik - dlatego trzeba bliżej mu się przyjrzeć. "
      ]
    },
    {
      "cell_type": "code",
      "metadata": {
        "id": "stkevnnreRcc",
        "colab_type": "code",
        "colab": {
          "base_uri": "https://localhost:8080/",
          "height": 221
        },
        "outputId": "89dae4a6-9698-4e7b-84f2-475edb2b8cdc"
      },
      "source": [
        "df['brand'].value_counts(normalize=True)"
      ],
      "execution_count": 69,
      "outputs": [
        {
          "output_type": "execute_result",
          "data": {
            "text/plain": [
              "nike                0.097210\n",
              "puma                0.033315\n",
              "ralph lauren        0.028775\n",
              "vans                0.021116\n",
              "new balance         0.020295\n",
              "                      ...   \n",
              "nba                 0.000055\n",
              "rlx ralph lauren    0.000055\n",
              "authentic icon      0.000055\n",
              "carroll leather     0.000055\n",
              "ryan seacrest       0.000055\n",
              "Name: brand, Length: 1732, dtype: float64"
            ]
          },
          "metadata": {
            "tags": []
          },
          "execution_count": 69
        }
      ]
    },
    {
      "cell_type": "code",
      "metadata": {
        "id": "G60iAdkKexRq",
        "colab_type": "code",
        "colab": {
          "base_uri": "https://localhost:8080/",
          "height": 102
        },
        "outputId": "e95fa972-3257-4982-c8b6-3a82b63dcf3e"
      },
      "source": [
        "df[df['brand'] == 'nike'].features_parsed.head().values"
      ],
      "execution_count": 70,
      "outputs": [
        {
          "output_type": "execute_result",
          "data": {
            "text/plain": [
              "array([{'sport': 'soccer', 'main color': 'orange', 'type': 'cleats', 'condition': 'new without box'},\n",
              "       {'sport': 'soccer', 'main color': 'orange', 'type': 'cleats', 'condition': 'new without box'},\n",
              "       {'sport': 'soccer', 'main color': 'orange', 'type': 'cleats', 'condition': 'new without box'},\n",
              "       {'style': 'athletic sneakers', 'condition': 'new with box'}, {}],\n",
              "      dtype=object)"
            ]
          },
          "metadata": {
            "tags": []
          },
          "execution_count": 70
        }
      ]
    },
    {
      "cell_type": "code",
      "metadata": {
        "id": "6ujAuNpXTIDW",
        "colab_type": "code",
        "colab": {
          "base_uri": "https://localhost:8080/",
          "height": 122
        },
        "outputId": "f301b958-2cc8-47cf-98dd-0820bda58781"
      },
      "source": [
        "df[df['brand'] == 'nike'].features_parsed.sample(5).values"
      ],
      "execution_count": 71,
      "outputs": [
        {
          "output_type": "execute_result",
          "data": {
            "text/plain": [
              "array([{'style': 'athletic', 'condition': 'new with tags'}, {},\n",
              "       {'season': 'all-season', 'material': 'leather', 'gender': 'men', 'shoe size': '8', 'color': 'gray', 'manufacturer part number': '631685 017', 'brand': 'nike', 'age group': 'adult'},\n",
              "       {'color': 'green yellow red dark gray'},\n",
              "       {'material': 'mesh', 'gender': 'men', 'shoe category': \"men's shoes\", 'assembled product dimensions (l x w x h)': '12.00 x 8.00 x 6.00 inches', 'fabric content': 'mesh', 'color': 'wolf grey/racer blue/blk/wht', 'model': '844514 004', 'shoe closure': 'lace-up', 'manufacturer part number': '844514 004', 'brand': 'nike', 'shoe width': 'd(m)'}],\n",
              "      dtype=object)"
            ]
          },
          "metadata": {
            "tags": []
          },
          "execution_count": 71
        }
      ]
    },
    {
      "cell_type": "code",
      "metadata": {
        "id": "GCovTpOMTV9O",
        "colab_type": "code",
        "colab": {
          "base_uri": "https://localhost:8080/",
          "height": 289
        },
        "outputId": "cd31287d-6fac-41be-9280-c3cda10b35e7"
      },
      "source": [
        "df['feat_age group'].value_counts()"
      ],
      "execution_count": 72,
      "outputs": [
        {
          "output_type": "execute_result",
          "data": {
            "text/plain": [
              "adult               4563\n",
              "men                  350\n",
              "child                 77\n",
              "men's                 33\n",
              "unisex                 6\n",
              "infant                 4\n",
              "mens                   4\n",
              "toddler                4\n",
              "boys'                  3\n",
              "women ,�� unisex       2\n",
              "women                  2\n",
              "youth                  2\n",
              "men||women             2\n",
              "12 up                  1\n",
              "adult ,�� teen         1\n",
              "Name: feat_age group, dtype: int64"
            ]
          },
          "metadata": {
            "tags": []
          },
          "execution_count": 72
        }
      ]
    },
    {
      "cell_type": "code",
      "metadata": {
        "id": "B3KsSKgiWn3A",
        "colab_type": "code",
        "colab": {}
      },
      "source": [
        "!git add matrix_one/day5.ipynb\n"
      ],
      "execution_count": 0,
      "outputs": []
    },
    {
      "cell_type": "code",
      "metadata": {
        "id": "M8q0Amargc2q",
        "colab_type": "code",
        "colab": {
          "base_uri": "https://localhost:8080/",
          "height": 221
        },
        "outputId": "920989a6-7111-4fe2-ad7b-33ca88a1bc7b"
      },
      "source": [
        "!git commit -m \"DAY 5 - Read Men's Shoe Prices dataset from data.world\"\n"
      ],
      "execution_count": 106,
      "outputs": [
        {
          "output_type": "stream",
          "text": [
            "\n",
            "*** Please tell me who you are.\n",
            "\n",
            "Run\n",
            "\n",
            "  git config --global user.email \"you@example.com\"\n",
            "  git config --global user.name \"Your Name\"\n",
            "\n",
            "to set your account's default identity.\n",
            "Omit --global to set the identity only in this repository.\n",
            "\n",
            "fatal: unable to auto-detect email address (got 'root@82a3e368cd0c.(none)')\n"
          ],
          "name": "stdout"
        }
      ]
    },
    {
      "cell_type": "code",
      "metadata": {
        "id": "BZnCS1VAg80H",
        "colab_type": "code",
        "colab": {}
      },
      "source": [
        "!git config --global user.email \"miklaszewskigrzegorz@gmail.com\"\n",
        "!git config --global user.name \"Grzegorz Mikłaszewski\"\n"
      ],
      "execution_count": 0,
      "outputs": []
    },
    {
      "cell_type": "code",
      "metadata": {
        "id": "MbwM16BnhU7L",
        "colab_type": "code",
        "colab": {
          "base_uri": "https://localhost:8080/",
          "height": 68
        },
        "outputId": "b367c16c-57a2-4e50-a413-b838fb860c26"
      },
      "source": [
        "!git commit -m \"DAY 5 - Read Men's Shoe Prices dataset from data.world\""
      ],
      "execution_count": 108,
      "outputs": [
        {
          "output_type": "stream",
          "text": [
            "[master 7af4240] DAY 5 - Read Men's Shoe Prices dataset from data.world\n",
            " 1 file changed, 1 insertion(+)\n",
            " create mode 100644 matrix_one/day5.ipynb\n"
          ],
          "name": "stdout"
        }
      ]
    },
    {
      "cell_type": "code",
      "metadata": {
        "id": "jx20Pvoahdq6",
        "colab_type": "code",
        "colab": {
          "base_uri": "https://localhost:8080/",
          "height": 136
        },
        "outputId": "08077d3e-d64e-45e6-91fb-2e7d18efb6c6"
      },
      "source": [
        "!git push -u origin master"
      ],
      "execution_count": 110,
      "outputs": [
        {
          "output_type": "stream",
          "text": [
            "To https://github.com/miklaszewskigrzegorz/dw_matrix.git\n",
            " ! [rejected]        master -> master (non-fast-forward)\n",
            "error: failed to push some refs to 'https://906bab3a1f3626bf82055c14725d558af31c90e7@github.com/miklaszewskigrzegorz/dw_matrix.git'\n",
            "hint: Updates were rejected because the tip of your current branch is behind\n",
            "hint: its remote counterpart. Integrate the remote changes (e.g.\n",
            "hint: 'git pull ...') before pushing again.\n",
            "hint: See the 'Note about fast-forwards' in 'git push --help' for details.\n"
          ],
          "name": "stdout"
        }
      ]
    },
    {
      "cell_type": "code",
      "metadata": {
        "id": "Om7l9eJih67s",
        "colab_type": "code",
        "colab": {
          "base_uri": "https://localhost:8080/",
          "height": 272
        },
        "outputId": "e84da717-fa9d-4312-f17d-6d97863e35b9"
      },
      "source": [
        "!git pull origin master \n",
        "!git add  matrix_one/day5.ipynb \n",
        "!git commit -m \"Read Men's Shoe Prices dataset from data.world\"\n",
        "!git push origin master"
      ],
      "execution_count": 112,
      "outputs": [
        {
          "output_type": "stream",
          "text": [
            "From https://github.com/miklaszewskigrzegorz/dw_matrix\n",
            " * branch            master     -> FETCH_HEAD\n",
            "error: Your local changes to the following files would be overwritten by merge:\n",
            "\tmatrix_one/day4.ipynb\n",
            "Please commit your changes or stash them before you merge.\n",
            "Aborting\n",
            "[master 4e5c426] Read Men's Shoe Prices dataset from data.world\n",
            " 1 file changed, 1 insertion(+), 1 deletion(-)\n",
            "To https://github.com/miklaszewskigrzegorz/dw_matrix.git\n",
            " ! [rejected]        master -> master (non-fast-forward)\n",
            "error: failed to push some refs to 'https://906bab3a1f3626bf82055c14725d558af31c90e7@github.com/miklaszewskigrzegorz/dw_matrix.git'\n",
            "hint: Updates were rejected because the tip of your current branch is behind\n",
            "hint: its remote counterpart. Integrate the remote changes (e.g.\n",
            "hint: 'git pull ...') before pushing again.\n",
            "hint: See the 'Note about fast-forwards' in 'git push --help' for details.\n"
          ],
          "name": "stdout"
        }
      ]
    }
  ]
}