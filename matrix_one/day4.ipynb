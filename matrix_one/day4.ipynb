{
  "nbformat": 4,
  "nbformat_minor": 0,
  "metadata": {
    "colab": {
      "name": "day4.ipynb",
      "provenance": [],
      "collapsed_sections": [],
      "toc_visible": true,
      "mount_file_id": "1H21o8uu8ZV7aSExUBCKbTZFWA4krGO9v",
      "authorship_tag": "ABX9TyOqXrY6kPI2aBuicxV/V9Ko",
      "include_colab_link": true
    },
    "kernelspec": {
      "name": "python3",
      "display_name": "Python 3"
    }
  },
  "cells": [
    {
      "cell_type": "markdown",
      "metadata": {
        "id": "view-in-github",
        "colab_type": "text"
      },
      "source": [
        "<a href=\"https://colab.research.google.com/github/miklaszewskigrzegorz/dw_matrix/blob/master/matrix_one/day4.ipynb\" target=\"_parent\"><img src=\"https://colab.research.google.com/assets/colab-badge.svg\" alt=\"Open In Colab\"/></a>"
      ]
    },
    {
      "cell_type": "markdown",
      "metadata": {
        "id": "6U3ILals1ri_",
        "colab_type": "text"
      },
      "source": [
        "najpierw klikamy Unmonunt Drive żeby połączyć z My Drive\n"
      ]
    },
    {
      "cell_type": "code",
      "metadata": {
        "id": "PVaBWJS31Zru",
        "colab_type": "code",
        "colab": {}
      },
      "source": [
        "import pandas as pd\n",
        "import numpy as np\n",
        "from sklearn.tree import DecisionTreeRegressor\n",
        "from sklearn.metrics import mean_absolute_error\n",
        "from sklearn.model_selection import cross_val_score\n"
      ],
      "execution_count": 0,
      "outputs": []
    },
    {
      "cell_type": "code",
      "metadata": {
        "id": "4MtKXGFX2FBG",
        "colab_type": "code",
        "colab": {
          "base_uri": "https://localhost:8080/",
          "height": 34
        },
        "outputId": "51250974-ef4f-428d-9df2-69aab37d9343"
      },
      "source": [
        "cd \"/content/drive/My Drive/Colab Notebooks/dw_matrix\""
      ],
      "execution_count": 116,
      "outputs": [
        {
          "output_type": "stream",
          "text": [
            "/content/drive/My Drive/Colab Notebooks/dw_matrix\n"
          ],
          "name": "stdout"
        }
      ]
    },
    {
      "cell_type": "code",
      "metadata": {
        "id": "0m8_Gkew2LZV",
        "colab_type": "code",
        "colab": {
          "base_uri": "https://localhost:8080/",
          "height": 34
        },
        "outputId": "5b8c04b8-9ef1-4354-8eae-3d6c30d80296"
      },
      "source": [
        "df = pd.read_csv('data/men_shoes.csv', low_memory=False)\n",
        "df.shape"
      ],
      "execution_count": 117,
      "outputs": [
        {
          "output_type": "execute_result",
          "data": {
            "text/plain": [
              "(18280, 48)"
            ]
          },
          "metadata": {
            "tags": []
          },
          "execution_count": 117
        }
      ]
    },
    {
      "cell_type": "code",
      "metadata": {
        "id": "2lUHWg362qjO",
        "colab_type": "code",
        "colab": {
          "base_uri": "https://localhost:8080/",
          "height": 232
        },
        "outputId": "907704cf-4811-49d0-becb-3ccad42be2b9"
      },
      "source": [
        "df.columns"
      ],
      "execution_count": 118,
      "outputs": [
        {
          "output_type": "execute_result",
          "data": {
            "text/plain": [
              "Index(['id', 'asins', 'brand', 'categories', 'colors', 'count', 'dateadded',\n",
              "       'dateupdated', 'descriptions', 'dimension', 'ean', 'features',\n",
              "       'flavors', 'imageurls', 'isbn', 'keys', 'manufacturer',\n",
              "       'manufacturernumber', 'merchants', 'name', 'prices_amountmin',\n",
              "       'prices_amountmax', 'prices_availability', 'prices_color',\n",
              "       'prices_condition', 'prices_count', 'prices_currency',\n",
              "       'prices_dateadded', 'prices_dateseen', 'prices_flavor', 'prices_issale',\n",
              "       'prices_merchant', 'prices_offer', 'prices_returnpolicy',\n",
              "       'prices_shipping', 'prices_size', 'prices_source', 'prices_sourceurls',\n",
              "       'prices_warranty', 'quantities', 'reviews', 'sizes', 'skus',\n",
              "       'sourceurls', 'upc', 'vin', 'websiteids', 'weight'],\n",
              "      dtype='object')"
            ]
          },
          "metadata": {
            "tags": []
          },
          "execution_count": 118
        }
      ]
    },
    {
      "cell_type": "code",
      "metadata": {
        "id": "tZJEAZSu2vIJ",
        "colab_type": "code",
        "colab": {
          "base_uri": "https://localhost:8080/",
          "height": 34
        },
        "outputId": "992ff166-3061-43d5-cbf8-95a81118b592"
      },
      "source": [
        "mean_price = np.mean(df['prices_amountmin'])\n",
        "mean_price"
      ],
      "execution_count": 119,
      "outputs": [
        {
          "output_type": "execute_result",
          "data": {
            "text/plain": [
              "93.53952188183217"
            ]
          },
          "metadata": {
            "tags": []
          },
          "execution_count": 119
        }
      ]
    },
    {
      "cell_type": "code",
      "metadata": {
        "id": "baV7fO1V24Py",
        "colab_type": "code",
        "colab": {
          "base_uri": "https://localhost:8080/",
          "height": 34
        },
        "outputId": "546090dc-695f-4977-b5fb-363fe813e6f1"
      },
      "source": [
        "[3]*5"
      ],
      "execution_count": 120,
      "outputs": [
        {
          "output_type": "execute_result",
          "data": {
            "text/plain": [
              "[3, 3, 3, 3, 3]"
            ]
          },
          "metadata": {
            "tags": []
          },
          "execution_count": 120
        }
      ]
    },
    {
      "cell_type": "code",
      "metadata": {
        "id": "H5lGH6Ii3Cyf",
        "colab_type": "code",
        "colab": {
          "base_uri": "https://localhost:8080/",
          "height": 34
        },
        "outputId": "51669946-a590-4483-f43b-970e99e4bf9a"
      },
      "source": [
        "y_true = df['prices_amountmin'] # wartość prawidłowa do prognozwania mamy 18 tysiecy\n",
        "#y_true.shape[0]\n",
        "# teraz powtarzamy mean_price * każdy wierwsz >18000 żeby wyliczyć y_pred\n",
        "# y_pred wartość którą chcemy zprognozować\n",
        "y_pred = [mean_price] * y_true.shape[0]\n",
        "\n",
        "mean_absolute_error(y_true,y_pred)\n"
      ],
      "execution_count": 121,
      "outputs": [
        {
          "output_type": "execute_result",
          "data": {
            "text/plain": [
              "63.968341227870624"
            ]
          },
          "metadata": {
            "tags": []
          },
          "execution_count": 121
        }
      ]
    },
    {
      "cell_type": "markdown",
      "metadata": {
        "id": "ee4JZIy74kYd",
        "colab_type": "text"
      },
      "source": [
        "żeby znormalizować - trzeba zlogarytmować"
      ]
    },
    {
      "cell_type": "code",
      "metadata": {
        "id": "gh6qvtD73Vxi",
        "colab_type": "code",
        "colab": {
          "base_uri": "https://localhost:8080/",
          "height": 265
        },
        "outputId": "c0ee06eb-f89d-49c0-fcc5-d9ca3a0a8e14"
      },
      "source": [
        "y_true = df['prices_amountmin'].hist(bins=100)"
      ],
      "execution_count": 122,
      "outputs": [
        {
          "output_type": "display_data",
          "data": {
            "image/png": "[encoded data removed]",
            "text/plain": [
              "<Figure size 432x288 with 1 Axes>"
            ]
          },
          "metadata": {
            "tags": []
          }
        }
      ]
    },
    {
      "cell_type": "code",
      "metadata": {
        "id": "TFAHgHmr4zrZ",
        "colab_type": "code",
        "colab": {
          "base_uri": "https://localhost:8080/",
          "height": 283
        },
        "outputId": "3e7cf0c0-b859-45b3-9a6e-26b728ac4adf"
      },
      "source": [
        "np.log1p(df['prices_amountmax']).hist(bins=100)\n",
        "# np.log( df[prices_amountmin'] +1).hist(bins=100)\n",
        "# bo np.log(0)  minus nieskończoność\n",
        "# np.log(0+1) wynosi 0 \n",
        "# funkcja np.log1p robi to samo"
      ],
      "execution_count": 20,
      "outputs": [
        {
          "output_type": "execute_result",
          "data": {
            "text/plain": [
              "<matplotlib.axes._subplots.AxesSubplot at 0x7eff87a6ce80>"
            ]
          },
          "metadata": {
            "tags": []
          },
          "execution_count": 20
        },
        {
          "output_type": "display_data",
          "data": {
            "image/png": "[encoded data removed]",
            "text/plain": [
              "<Figure size 432x288 with 1 Axes>"
            ]
          },
          "metadata": {
            "tags": []
          }
        }
      ]
    },
    {
      "cell_type": "markdown",
      "metadata": {
        "id": "qe5TKPt551bI",
        "colab_type": "text"
      },
      "source": [
        "drugi eksperyment - zamiast średniej będzie Mediana"
      ]
    },
    {
      "cell_type": "code",
      "metadata": {
        "id": "_Gen1esI55yY",
        "colab_type": "code",
        "colab": {
          "base_uri": "https://localhost:8080/",
          "height": 34
        },
        "outputId": "04f268b4-ecb5-413c-d880-1ff43f288d3e"
      },
      "source": [
        "y_true = df['prices_amountmin']\n",
        "y_pred = [np.median(y_true)] * y_true.shape[0]\n",
        "\n",
        "mean_absolute_error(y_true,y_pred)"
      ],
      "execution_count": 123,
      "outputs": [
        {
          "output_type": "execute_result",
          "data": {
            "text/plain": [
              "58.01120240700219"
            ]
          },
          "metadata": {
            "tags": []
          },
          "execution_count": 123
        }
      ]
    },
    {
      "cell_type": "code",
      "metadata": {
        "id": "G70yvuGp6WO-",
        "colab_type": "code",
        "colab": {
          "base_uri": "https://localhost:8080/",
          "height": 34
        },
        "outputId": "755d54ee-5a70-40fa-ddad-c5335b7976ae"
      },
      "source": [
        "y_true = df['prices_amountmin']\n",
        "price_log_mean = np.expm1(np.mean(np.log1p(y_true)))\n",
        "y_pred = [price_log_mean] * y_true.shape[0]\n",
        "\n",
        "mean_absolute_error(y_true,y_pred)"
      ],
      "execution_count": 124,
      "outputs": [
        {
          "output_type": "execute_result",
          "data": {
            "text/plain": [
              "58.03539547661041"
            ]
          },
          "metadata": {
            "tags": []
          },
          "execution_count": 124
        }
      ]
    },
    {
      "cell_type": "code",
      "metadata": {
        "id": "Xvliq-_Y7GqC",
        "colab_type": "code",
        "colab": {
          "base_uri": "https://localhost:8080/",
          "height": 232
        },
        "outputId": "70281ccb-8a9f-4c5c-ceb8-7e732d3dfeb0"
      },
      "source": [
        "df.columns"
      ],
      "execution_count": 125,
      "outputs": [
        {
          "output_type": "execute_result",
          "data": {
            "text/plain": [
              "Index(['id', 'asins', 'brand', 'categories', 'colors', 'count', 'dateadded',\n",
              "       'dateupdated', 'descriptions', 'dimension', 'ean', 'features',\n",
              "       'flavors', 'imageurls', 'isbn', 'keys', 'manufacturer',\n",
              "       'manufacturernumber', 'merchants', 'name', 'prices_amountmin',\n",
              "       'prices_amountmax', 'prices_availability', 'prices_color',\n",
              "       'prices_condition', 'prices_count', 'prices_currency',\n",
              "       'prices_dateadded', 'prices_dateseen', 'prices_flavor', 'prices_issale',\n",
              "       'prices_merchant', 'prices_offer', 'prices_returnpolicy',\n",
              "       'prices_shipping', 'prices_size', 'prices_source', 'prices_sourceurls',\n",
              "       'prices_warranty', 'quantities', 'reviews', 'sizes', 'skus',\n",
              "       'sourceurls', 'upc', 'vin', 'websiteids', 'weight'],\n",
              "      dtype='object')"
            ]
          },
          "metadata": {
            "tags": []
          },
          "execution_count": 125
        }
      ]
    },
    {
      "cell_type": "code",
      "metadata": {
        "id": "V8w0s_mZ7Mbv",
        "colab_type": "code",
        "colab": {
          "base_uri": "https://localhost:8080/",
          "height": 232
        },
        "outputId": "4944b155-ac75-4376-ad7c-b709efda2e8b"
      },
      "source": [
        "df.brand.value_counts()"
      ],
      "execution_count": 126,
      "outputs": [
        {
          "output_type": "execute_result",
          "data": {
            "text/plain": [
              "Nike              1709\n",
              "PUMA               574\n",
              "Ralph Lauren       524\n",
              "New Balance        361\n",
              "VANS               356\n",
              "                  ... \n",
              "Browning             1\n",
              "Venum                1\n",
              "Great Northern       1\n",
              "HUDSON               1\n",
              "Silver Lilly         1\n",
              "Name: brand, Length: 1856, dtype: int64"
            ]
          },
          "metadata": {
            "tags": []
          },
          "execution_count": 126
        }
      ]
    },
    {
      "cell_type": "code",
      "metadata": {
        "id": "JK2Zd9MMAK2d",
        "colab_type": "code",
        "colab": {}
      },
      "source": [
        ""
      ],
      "execution_count": 0,
      "outputs": []
    },
    {
      "cell_type": "code",
      "metadata": {
        "id": "perZLjVL7WHC",
        "colab_type": "code",
        "colab": {
          "base_uri": "https://localhost:8080/",
          "height": 142
        },
        "outputId": "a02e4990-c4bd-4df5-cd5c-75116491a6f7"
      },
      "source": [
        "df['brand'].factorize()   #faktoryzacja - dostajmy numer dla każdego unikata"
      ],
      "execution_count": 26,
      "outputs": [
        {
          "output_type": "execute_result",
          "data": {
            "text/plain": [
              "(array([  0,   0,   1, ..., 411, 411, 411]),\n",
              " Index(['Josmo', 'SERVUS BY HONEYWELL', 'NATIVE', 'MAUI AND SONS', 'Twisted X',\n",
              "        'Lacoste', 'Rubies', 'unbranded', 'PUMA', 'Filament',\n",
              "        ...\n",
              "        'Bindi', 'Holloway Sportswear', 'River City', 'AH by Android Homme',\n",
              "        'SEG', 'American Rag', 'BININBOX', 'HEAD', 'Swix', 'Xray, XRay'],\n",
              "       dtype='object', length=1856))"
            ]
          },
          "metadata": {
            "tags": []
          },
          "execution_count": 26
        }
      ]
    },
    {
      "cell_type": "code",
      "metadata": {
        "id": "PXKKV_wg70ni",
        "colab_type": "code",
        "colab": {}
      },
      "source": [
        "df['brand_cat'] = df['brand'].factorize()[0] "
      ],
      "execution_count": 0,
      "outputs": []
    },
    {
      "cell_type": "code",
      "metadata": {
        "id": "0s0CuIVu8A2G",
        "colab_type": "code",
        "colab": {
          "base_uri": "https://localhost:8080/",
          "height": 34
        },
        "outputId": "09e3bc1b-f0bc-4677-842e-e6c3ce2c4164"
      },
      "source": [
        "feats = ['brand_cat']\n",
        "X = df[ feats ].values\n",
        "y = df['prices_amountmin'].values\n",
        "\n",
        "model = DecisionTreeRegressor(max_depth=5)\n",
        "scores = cross_val_score(model, X, y, scoring='neg_mean_absolute_error')\n",
        "np.mean(scores), np.std(scores)"
      ],
      "execution_count": 128,
      "outputs": [
        {
          "output_type": "execute_result",
          "data": {
            "text/plain": [
              "(-58.38655694633361, 4.223555478221712)"
            ]
          },
          "metadata": {
            "tags": []
          },
          "execution_count": 128
        }
      ]
    },
    {
      "cell_type": "code",
      "metadata": {
        "id": "Hcfn8oeM9cGd",
        "colab_type": "code",
        "colab": {
          "base_uri": "https://localhost:8080/",
          "height": 54
        },
        "outputId": "4f593bc9-7a8e-4104-adce-1e533e1952be"
      },
      "source": [
        "import sklearn\n",
        "sklearn.metrics.SCORERS.keys()\n"
      ],
      "execution_count": 129,
      "outputs": [
        {
          "output_type": "execute_result",
          "data": {
            "text/plain": [
              "dict_keys(['explained_variance', 'r2', 'max_error', 'neg_median_absolute_error', 'neg_mean_absolute_error', 'neg_mean_squared_error', 'neg_mean_squared_log_error', 'neg_root_mean_squared_error', 'neg_mean_poisson_deviance', 'neg_mean_gamma_deviance', 'accuracy', 'roc_auc', 'roc_auc_ovr', 'roc_auc_ovo', 'roc_auc_ovr_weighted', 'roc_auc_ovo_weighted', 'balanced_accuracy', 'average_precision', 'neg_log_loss', 'neg_brier_score', 'adjusted_rand_score', 'homogeneity_score', 'completeness_score', 'v_measure_score', 'mutual_info_score', 'adjusted_mutual_info_score', 'normalized_mutual_info_score', 'fowlkes_mallows_score', 'precision', 'precision_macro', 'precision_micro', 'precision_samples', 'precision_weighted', 'recall', 'recall_macro', 'recall_micro', 'recall_samples', 'recall_weighted', 'f1', 'f1_macro', 'f1_micro', 'f1_samples', 'f1_weighted', 'jaccard', 'jaccard_macro', 'jaccard_micro', 'jaccard_samples', 'jaccard_weighted'])"
            ]
          },
          "metadata": {
            "tags": []
          },
          "execution_count": 129
        }
      ]
    },
    {
      "cell_type": "code",
      "metadata": {
        "id": "UnZyd030-Uum",
        "colab_type": "code",
        "colab": {}
      },
      "source": [
        "def run_model(feats):\n",
        "  X = df[ feats ].values\n",
        "  y = df['prices_amountmin'].values\n",
        "\n",
        "  model = DecisionTreeRegressor(max_depth=5)\n",
        "  scores = cross_val_score(model, X, y, scoring='neg_mean_absolute_error')\n",
        "  return  np.mean(scores), np.std(scores)"
      ],
      "execution_count": 0,
      "outputs": []
    },
    {
      "cell_type": "code",
      "metadata": {
        "id": "0UpFa4cD_HZI",
        "colab_type": "code",
        "colab": {
          "base_uri": "https://localhost:8080/",
          "height": 34
        },
        "outputId": "487e78d5-e747-4dca-97dc-97fe2a9105b2"
      },
      "source": [
        "run_model(['brand_cat'])"
      ],
      "execution_count": 131,
      "outputs": [
        {
          "output_type": "execute_result",
          "data": {
            "text/plain": [
              "(-58.38655694633361, 4.223555478221712)"
            ]
          },
          "metadata": {
            "tags": []
          },
          "execution_count": 131
        }
      ]
    },
    {
      "cell_type": "markdown",
      "metadata": {
        "id": "ojGfZOWRAN7I",
        "colab_type": "text"
      },
      "source": [
        "nowa cecha df.manufacture.value_counts() + colors df.color.value_counts()"
      ]
    },
    {
      "cell_type": "code",
      "metadata": {
        "id": "HLAZqNxvAMZ9",
        "colab_type": "code",
        "colab": {
          "base_uri": "https://localhost:8080/",
          "height": 232
        },
        "outputId": "5eb4300c-2d19-4d53-c329-4ef44a583754"
      },
      "source": [
        "df.manufacturer.value_counts()"
      ],
      "execution_count": 132,
      "outputs": [
        {
          "output_type": "execute_result",
          "data": {
            "text/plain": [
              "Puma              476\n",
              "Nike              374\n",
              "New Balance       249\n",
              "VANS              170\n",
              "Reebok            128\n",
              "                 ... \n",
              "Ranger              1\n",
              "A. Testoni          1\n",
              "SANUK               1\n",
              "Sorel Footwear      1\n",
              "Silver Lilly        1\n",
              "Name: manufacturer, Length: 618, dtype: int64"
            ]
          },
          "metadata": {
            "tags": []
          },
          "execution_count": 132
        }
      ]
    },
    {
      "cell_type": "code",
      "metadata": {
        "id": "8QoOMHLVAgvZ",
        "colab_type": "code",
        "colab": {
          "base_uri": "https://localhost:8080/",
          "height": 160
        },
        "outputId": "61923ad2-a82f-4895-9417-861e2bf44175"
      },
      "source": [
        "df['manufacturer'].factorize()"
      ],
      "execution_count": 133,
      "outputs": [
        {
          "output_type": "execute_result",
          "data": {
            "text/plain": [
              "(array([-1, -1, -1, ..., -1, -1, -1]),\n",
              " Index(['Maui And Sons', 'Twisted X', 'Puma', 'Filament', 'Robert Wayne',\n",
              "        'Roper', 'Puentes Denver', 'Elan Polo', 'SoftScience', 'Dr. Martens',\n",
              "        ...\n",
              "        'MF Western', 'Luxottica', 'Minav Corp.', 'Rainbow Sandals',\n",
              "        'Muck Boots', 'AH by Android Homme', 'Rubies Costume Co', 'Vasque',\n",
              "        'POLO Ralph Lauren', 'HEAD'],\n",
              "       dtype='object', length=618))"
            ]
          },
          "metadata": {
            "tags": []
          },
          "execution_count": 133
        }
      ]
    },
    {
      "cell_type": "code",
      "metadata": {
        "id": "80ZldobiBDAt",
        "colab_type": "code",
        "colab": {}
      },
      "source": [
        "df['manufacturer_cat'] = df['manufacturer'].factorize()[0] "
      ],
      "execution_count": 0,
      "outputs": []
    },
    {
      "cell_type": "code",
      "metadata": {
        "id": "ytOmdGXhCAU9",
        "colab_type": "code",
        "colab": {
          "base_uri": "https://localhost:8080/",
          "height": 232
        },
        "outputId": "f742e545-5c48-41e4-d890-afa0bcdc9640"
      },
      "source": [
        "df.colors.value_counts()"
      ],
      "execution_count": 135,
      "outputs": [
        {
          "output_type": "execute_result",
          "data": {
            "text/plain": [
              "Black                                          1364\n",
              "Brown                                           746\n",
              "Blue                                            421\n",
              "Multicolor                                      415\n",
              "White                                           252\n",
              "                                               ... \n",
              "PhantomWhiteGum Yellow                            1\n",
              "Flash CoralBlack,WhiteMethyl BlueDark Slate       1\n",
              "Neutral GreyRed-Obsidian                          1\n",
              "English Blue                                      1\n",
              "Bull Fight Tan                                    1\n",
              "Name: colors, Length: 2080, dtype: int64"
            ]
          },
          "metadata": {
            "tags": []
          },
          "execution_count": 135
        }
      ]
    },
    {
      "cell_type": "code",
      "metadata": {
        "id": "ECkO29xJCoZO",
        "colab_type": "code",
        "colab": {
          "base_uri": "https://localhost:8080/",
          "height": 286
        },
        "outputId": "c710d7ba-9f14-4b43-80a8-1fc4c7ddc013"
      },
      "source": [
        "df['colors'].factorize()"
      ],
      "execution_count": 136,
      "outputs": [
        {
          "output_type": "execute_result",
          "data": {
            "text/plain": [
              "(array([-1, -1, -1, ..., -1, -1, -1]),\n",
              " Index(['Red,Black,Sketchy Slant,Yellow,BlackBlue,BlackRed,Sharky Tribe,Pro Ocean,BlackBlueYellow,Gray,Helms,BlackGreenYellow,Blue,Green,Black-White,Black Multi,GrayBlack',\n",
              "        'Dark Grey',\n",
              "        'White,Yellow,Red,Purple,Black,Pink,Orange,Green,Brown,Blue,Grey',\n",
              "        'Beige', 'Black', 'Tan Navy', 'White', 'Multicolor', 'Orange',\n",
              "        'Field Tan Canvas,Brush Brown Canvas',\n",
              "        ...\n",
              "        'Sports', 'white  Brown', 'A Berr,N N,Berry',\n",
              "        'VoltPhoto BlueHyper Pink',\n",
              "        'WhiteGrayYellow,RedNeon Yellow,Red,BlueWhite',\n",
              "        'BlackMetallic SilverLaser CrimsonGrey', 'Tumbled Tomboni Brown',\n",
              "        'Mahogany  Mahogany',\n",
              "        'TangerineBlackGriffin,Griffin,AquaBlackGriffin,BlackBlackWhite,GriffinBlackWhite',\n",
              "        'Bay Brown'],\n",
              "       dtype='object', length=2080))"
            ]
          },
          "metadata": {
            "tags": []
          },
          "execution_count": 136
        }
      ]
    },
    {
      "cell_type": "code",
      "metadata": {
        "id": "SFgxYsSVCxTC",
        "colab_type": "code",
        "colab": {}
      },
      "source": [
        "df['colors_cat'] = df['colors'].factorize()[0] "
      ],
      "execution_count": 0,
      "outputs": []
    },
    {
      "cell_type": "code",
      "metadata": {
        "id": "Y498SidkBWkT",
        "colab_type": "code",
        "colab": {
          "base_uri": "https://localhost:8080/",
          "height": 34
        },
        "outputId": "7a5a3469-802e-45ac-c61d-4e6fe7225bcf"
      },
      "source": [
        "run_model(['brand_cat','manufacturer_cat','colors_cat'])"
      ],
      "execution_count": 138,
      "outputs": [
        {
          "output_type": "execute_result",
          "data": {
            "text/plain": [
              "(-61.76723637561056, 5.743222840525925)"
            ]
          },
          "metadata": {
            "tags": []
          },
          "execution_count": 138
        }
      ]
    },
    {
      "cell_type": "code",
      "metadata": {
        "id": "ikJBaP_aEK2m",
        "colab_type": "code",
        "colab": {}
      },
      "source": [
        "!git add matrix_one/day4.ipynb"
      ],
      "execution_count": 0,
      "outputs": []
    },
    {
      "cell_type": "code",
      "metadata": {
        "id": "znEEn60_GEog",
        "colab_type": "code",
        "colab": {}
      },
      "source": [
        "!git config --global user.email \"miklaszewskigrzegorz@gmail.com\"\n",
        "!git config --global user.name \"Grzegorz\""
      ],
      "execution_count": 0,
      "outputs": []
    },
    {
      "cell_type": "code",
      "metadata": {
        "id": "xQwwXPlfGGh7",
        "colab_type": "code",
        "colab": {
          "base_uri": "https://localhost:8080/",
          "height": 70
        },
        "outputId": "b8ccbbdf-4310-43c9-f607-f96f52778b2d"
      },
      "source": [
        "!git commit -m \"day4 - Read Men's Shoe Prices dataset from data.world\""
      ],
      "execution_count": 144,
      "outputs": [
        {
          "output_type": "stream",
          "text": [
            "[master 83d4f24] day4 - Read Men's Shoe Prices dataset from data.world\n",
            " 1 file changed, 1 insertion(+), 1 deletion(-)\n",
            " rewrite matrix_one/day4.ipynb (94%)\n"
          ],
          "name": "stdout"
        }
      ]
    },
    {
      "cell_type": "code",
      "metadata": {
        "id": "p9j2F9oBGaUh",
        "colab_type": "code",
        "colab": {
          "base_uri": "https://localhost:8080/",
          "height": 214
        },
        "outputId": "d424deeb-ad72-4a4c-d73c-92b6e6e5c41c"
      },
      "source": [
        "!git status "
      ],
      "execution_count": 145,
      "outputs": [
        {
          "output_type": "stream",
          "text": [
            "On branch master\n",
            "Your branch is ahead of 'origin/master' by 11 commits.\n",
            "  (use \"git push\" to publish your local commits)\n",
            "\n",
            "Changes not staged for commit:\n",
            "  (use \"git add <file>...\" to update what will be committed)\n",
            "  (use \"git checkout -- <file>...\" to discard changes in working directory)\n",
            "\n",
            "\t\u001b[31mmodified:   matrix_one/day4.ipynb\u001b[m\n",
            "\n",
            "no changes added to commit (use \"git add\" and/or \"git commit -a\")\n"
          ],
          "name": "stdout"
        }
      ]
    },
    {
      "cell_type": "code",
      "metadata": {
        "id": "ucLfMdrUSATA",
        "colab_type": "code",
        "colab": {
          "base_uri": "https://localhost:8080/",
          "height": 34
        },
        "outputId": "5e19e2ca-14a9-42c4-940b-c64448cd432f"
      },
      "source": [
        "cd .."
      ],
      "execution_count": 156,
      "outputs": [
        {
          "output_type": "stream",
          "text": [
            "/content/drive/My Drive/Colab Notebooks/dw_matrix\n"
          ],
          "name": "stdout"
        }
      ]
    }
  ]
}